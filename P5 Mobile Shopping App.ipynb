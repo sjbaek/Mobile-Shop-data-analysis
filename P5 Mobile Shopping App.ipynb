{
 "cells": [
  {
   "cell_type": "markdown",
   "metadata": {},
   "source": [
    "### This python notebook complements the report document (Capstone Report by SBaek.docx) and shows data analysis and calculation following the same numeric order of document sections"
   ]
  },
  {
   "cell_type": "code",
   "execution_count": 1,
   "metadata": {
    "collapsed": false
   },
   "outputs": [
    {
     "name": "stderr",
     "output_type": "stream",
     "text": [
      "/Users/seungjinbaek/anaconda/lib/python2.7/site-packages/matplotlib/font_manager.py:273: UserWarning: Matplotlib is building the font cache using fc-list. This may take a moment.\n",
      "  warnings.warn('Matplotlib is building the font cache using fc-list. This may take a moment.')\n",
      "/Users/seungjinbaek/anaconda/lib/python2.7/site-packages/matplotlib/__init__.py:872: UserWarning: axes.color_cycle is deprecated and replaced with axes.prop_cycle; please use the latter.\n",
      "  warnings.warn(self.msg_depr % (key, alt_key))\n"
     ]
    }
   ],
   "source": [
    "import numpy as np\n",
    "import pandas as pd\n",
    "from pandas import Series, DataFrame\n",
    "import seaborn as sns\n",
    "\n",
    "import matplotlib.pyplot as plt\n",
    "%matplotlib inline"
   ]
  },
  {
   "cell_type": "markdown",
   "metadata": {},
   "source": [
    "# Project roadmap (old)\n",
    "1. Loading data/clean up\n",
    "2. Dimensional Reduction (Principal Component Analysis)\n",
    "3. Clustering Analysis\n",
    "4. Classification model using Decision Tree\n",
    "5. Model prediction for unknown dataset"
   ]
  },
  {
   "cell_type": "markdown",
   "metadata": {},
   "source": [
    "# Project roadmap\n",
    "1. Definition\n",
    "2. Analysis\n",
    "3. Methodology\n",
    "4. Results\n",
    "5. Conclusion"
   ]
  },
  {
   "cell_type": "markdown",
   "metadata": {},
   "source": [
    "----"
   ]
  },
  {
   "cell_type": "markdown",
   "metadata": {},
   "source": [
    "# Section 1. Definition"
   ]
  },
  {
   "cell_type": "markdown",
   "metadata": {},
   "source": [
    "Please see the report document for the project overview and problem statement. "
   ]
  },
  {
   "cell_type": "markdown",
   "metadata": {},
   "source": [
    "# Section 2. Analysis"
   ]
  },
  {
   "cell_type": "markdown",
   "metadata": {},
   "source": [
    "## Data Exploration"
   ]
  },
  {
   "cell_type": "markdown",
   "metadata": {},
   "source": [
    "### 1-1. Import data/data clean up\n",
    "\n",
    "* Among 10 features (except id number), I have decided perform feature selection where all the ratings informations were removed and time_on_site and listing features were combined as 'listing_per_day'\n",
    "* Since some users began to sell on the first day they install the app, 'time_on_site' can be zero when there are number of listings recorded. In these cases, listing/time_on_site will generate 'Inf.' In order to avoid Inf happening, I have added 1 to all entries of 'time_on_site.' "
   ]
  },
  {
   "cell_type": "code",
   "execution_count": 2,
   "metadata": {
    "collapsed": false
   },
   "outputs": [
    {
     "name": "stderr",
     "output_type": "stream",
     "text": [
      "/Users/seungjinbaek/anaconda/lib/python2.7/site-packages/ipykernel/__main__.py:7: SettingWithCopyWarning: \n",
      "A value is trying to be set on a copy of a slice from a DataFrame\n",
      "\n",
      "See the caveats in the documentation: http://pandas.pydata.org/pandas-docs/stable/indexing.html#indexing-view-versus-copy\n"
     ]
    }
   ],
   "source": [
    "input_file = \"data/Customer_activity.csv\"\n",
    "df = pd.read_csv(input_file, header = 0)\n",
    "df2 = df.drop('install_date',axis=1)\n",
    "\n",
    "# Create 'listing per day' data column\n",
    "df2['listing_per_day'] = 0\n",
    "df2['listing_per_day'][df2['time_on_site']>0] = df2['listing'][df2['time_on_site']>0]/(df2['time_on_site'][df2['time_on_site']>0])"
   ]
  },
  {
   "cell_type": "code",
   "execution_count": 3,
   "metadata": {
    "collapsed": false
   },
   "outputs": [
    {
     "data": {
      "text/html": [
       "<div>\n",
       "<table border=\"1\" class=\"dataframe\">\n",
       "  <thead>\n",
       "    <tr style=\"text-align: right;\">\n",
       "      <th></th>\n",
       "      <th>id</th>\n",
       "      <th>time_on_site</th>\n",
       "      <th>positive_rating</th>\n",
       "      <th>neutral_rating</th>\n",
       "      <th>negative_rating</th>\n",
       "      <th>listing</th>\n",
       "      <th>listing_gmv</th>\n",
       "      <th>sale</th>\n",
       "      <th>buyers</th>\n",
       "      <th>gmv</th>\n",
       "      <th>listing_per_day</th>\n",
       "    </tr>\n",
       "  </thead>\n",
       "  <tbody>\n",
       "    <tr>\n",
       "      <th>0</th>\n",
       "      <td>100000126</td>\n",
       "      <td>27</td>\n",
       "      <td>0</td>\n",
       "      <td>0</td>\n",
       "      <td>0</td>\n",
       "      <td>0</td>\n",
       "      <td>0.0</td>\n",
       "      <td>0</td>\n",
       "      <td>0</td>\n",
       "      <td>0.0</td>\n",
       "      <td>0.000000</td>\n",
       "    </tr>\n",
       "    <tr>\n",
       "      <th>1</th>\n",
       "      <td>100000329</td>\n",
       "      <td>5</td>\n",
       "      <td>0</td>\n",
       "      <td>0</td>\n",
       "      <td>0</td>\n",
       "      <td>0</td>\n",
       "      <td>0.0</td>\n",
       "      <td>0</td>\n",
       "      <td>0</td>\n",
       "      <td>0.0</td>\n",
       "      <td>0.000000</td>\n",
       "    </tr>\n",
       "    <tr>\n",
       "      <th>2</th>\n",
       "      <td>100002348</td>\n",
       "      <td>76</td>\n",
       "      <td>1</td>\n",
       "      <td>0</td>\n",
       "      <td>0</td>\n",
       "      <td>1</td>\n",
       "      <td>10.0</td>\n",
       "      <td>1</td>\n",
       "      <td>1</td>\n",
       "      <td>10.0</td>\n",
       "      <td>0.013158</td>\n",
       "    </tr>\n",
       "    <tr>\n",
       "      <th>3</th>\n",
       "      <td>100002548</td>\n",
       "      <td>5</td>\n",
       "      <td>0</td>\n",
       "      <td>0</td>\n",
       "      <td>0</td>\n",
       "      <td>40</td>\n",
       "      <td>357.0</td>\n",
       "      <td>0</td>\n",
       "      <td>0</td>\n",
       "      <td>0.0</td>\n",
       "      <td>8.000000</td>\n",
       "    </tr>\n",
       "    <tr>\n",
       "      <th>4</th>\n",
       "      <td>100003707</td>\n",
       "      <td>23</td>\n",
       "      <td>0</td>\n",
       "      <td>0</td>\n",
       "      <td>0</td>\n",
       "      <td>0</td>\n",
       "      <td>0.0</td>\n",
       "      <td>0</td>\n",
       "      <td>0</td>\n",
       "      <td>0.0</td>\n",
       "      <td>0.000000</td>\n",
       "    </tr>\n",
       "  </tbody>\n",
       "</table>\n",
       "</div>"
      ],
      "text/plain": [
       "          id  time_on_site  positive_rating  neutral_rating  negative_rating  \\\n",
       "0  100000126            27                0               0                0   \n",
       "1  100000329             5                0               0                0   \n",
       "2  100002348            76                1               0                0   \n",
       "3  100002548             5                0               0                0   \n",
       "4  100003707            23                0               0                0   \n",
       "\n",
       "   listing  listing_gmv  sale  buyers   gmv  listing_per_day  \n",
       "0        0          0.0     0       0   0.0         0.000000  \n",
       "1        0          0.0     0       0   0.0         0.000000  \n",
       "2        1         10.0     1       1  10.0         0.013158  \n",
       "3       40        357.0     0       0   0.0         8.000000  \n",
       "4        0          0.0     0       0   0.0         0.000000  "
      ]
     },
     "execution_count": 3,
     "metadata": {},
     "output_type": "execute_result"
    }
   ],
   "source": [
    "# see all features\n",
    "df2.head()"
   ]
  },
  {
   "cell_type": "markdown",
   "metadata": {},
   "source": [
    "### 1-2. Separate users with no selling item\n",
    "* This users are assumed to be 'New seller' without much analysis or they could be just new users or simply be buyers.\n",
    "* Only a small fraction of total users have items on sale"
   ]
  },
  {
   "cell_type": "code",
   "execution_count": 4,
   "metadata": {
    "collapsed": false
   },
   "outputs": [
    {
     "name": "stdout",
     "output_type": "stream",
     "text": [
      "* Only 8.07% of the listed users has items on sale!\n",
      "* => 97423 users out of total 1207774 users have sold at least one item using the app.\n"
     ]
    }
   ],
   "source": [
    "dfa = df2[df2['listing']>0]  # data active\n",
    "dfi = df2[df2['listing']==0] # data inactive\n",
    "\n",
    "print \"* Only %.2f%% of the listed users has items on sale!\" % (float(len(dfa))/float(len(df2))*100)\n",
    "print \"* => %.0f users out of total %.0f users have sold at least one item using the app.\" \\\n",
    "% (float(len(dfa)), float(len(df2)))"
   ]
  },
  {
   "cell_type": "code",
   "execution_count": 5,
   "metadata": {
    "collapsed": false
   },
   "outputs": [
    {
     "data": {
      "text/plain": [
       "<matplotlib.axes._subplots.AxesSubplot at 0x11669add0>"
      ]
     },
     "execution_count": 5,
     "metadata": {},
     "output_type": "execute_result"
    },
    {
     "data": {
      "image/png": "[encoded data removed]",
      "text/plain": [
       "<matplotlib.figure.Figure at 0x11669a7d0>"
      ]
     },
     "metadata": {},
     "output_type": "display_data"
    }
   ],
   "source": [
    "df2['listing'].hist(bins = 100)\n",
    "\n",
    "# This is useless!!"
   ]
  },
  {
   "cell_type": "markdown",
   "metadata": {},
   "source": [
    "### 1-3. Basic statistics of the active users (8.07% of total sellers)\n",
    "* distributions of the sellers by using 'sale' or 'listing'\n",
    "\n",
    "* use seaborn for faceted histograms"
   ]
  },
  {
   "cell_type": "code",
   "execution_count": 6,
   "metadata": {
    "collapsed": false
   },
   "outputs": [
    {
     "data": {
      "text/html": [
       "<div>\n",
       "<table border=\"1\" class=\"dataframe\">\n",
       "  <thead>\n",
       "    <tr style=\"text-align: right;\">\n",
       "      <th></th>\n",
       "      <th>id</th>\n",
       "      <th>time_on_site</th>\n",
       "      <th>positive_rating</th>\n",
       "      <th>neutral_rating</th>\n",
       "      <th>negative_rating</th>\n",
       "      <th>listing</th>\n",
       "      <th>listing_gmv</th>\n",
       "      <th>sale</th>\n",
       "      <th>buyers</th>\n",
       "      <th>gmv</th>\n",
       "      <th>listing_per_day</th>\n",
       "    </tr>\n",
       "  </thead>\n",
       "  <tbody>\n",
       "    <tr>\n",
       "      <th>2</th>\n",
       "      <td>100002348</td>\n",
       "      <td>76</td>\n",
       "      <td>1</td>\n",
       "      <td>0</td>\n",
       "      <td>0</td>\n",
       "      <td>1</td>\n",
       "      <td>10.0</td>\n",
       "      <td>1</td>\n",
       "      <td>1</td>\n",
       "      <td>10.0</td>\n",
       "      <td>0.013158</td>\n",
       "    </tr>\n",
       "    <tr>\n",
       "      <th>3</th>\n",
       "      <td>100002548</td>\n",
       "      <td>5</td>\n",
       "      <td>0</td>\n",
       "      <td>0</td>\n",
       "      <td>0</td>\n",
       "      <td>40</td>\n",
       "      <td>357.0</td>\n",
       "      <td>0</td>\n",
       "      <td>0</td>\n",
       "      <td>0.0</td>\n",
       "      <td>8.000000</td>\n",
       "    </tr>\n",
       "    <tr>\n",
       "      <th>25</th>\n",
       "      <td>100022372</td>\n",
       "      <td>26</td>\n",
       "      <td>0</td>\n",
       "      <td>0</td>\n",
       "      <td>0</td>\n",
       "      <td>9</td>\n",
       "      <td>250.0</td>\n",
       "      <td>0</td>\n",
       "      <td>0</td>\n",
       "      <td>0.0</td>\n",
       "      <td>0.346154</td>\n",
       "    </tr>\n",
       "    <tr>\n",
       "      <th>27</th>\n",
       "      <td>100023493</td>\n",
       "      <td>2</td>\n",
       "      <td>0</td>\n",
       "      <td>0</td>\n",
       "      <td>0</td>\n",
       "      <td>2</td>\n",
       "      <td>50.0</td>\n",
       "      <td>0</td>\n",
       "      <td>0</td>\n",
       "      <td>0.0</td>\n",
       "      <td>1.000000</td>\n",
       "    </tr>\n",
       "    <tr>\n",
       "      <th>42</th>\n",
       "      <td>100033232</td>\n",
       "      <td>57</td>\n",
       "      <td>0</td>\n",
       "      <td>0</td>\n",
       "      <td>0</td>\n",
       "      <td>9</td>\n",
       "      <td>143.0</td>\n",
       "      <td>1</td>\n",
       "      <td>1</td>\n",
       "      <td>25.0</td>\n",
       "      <td>0.157895</td>\n",
       "    </tr>\n",
       "  </tbody>\n",
       "</table>\n",
       "</div>"
      ],
      "text/plain": [
       "           id  time_on_site  positive_rating  neutral_rating  negative_rating  \\\n",
       "2   100002348            76                1               0                0   \n",
       "3   100002548             5                0               0                0   \n",
       "25  100022372            26                0               0                0   \n",
       "27  100023493             2                0               0                0   \n",
       "42  100033232            57                0               0                0   \n",
       "\n",
       "    listing  listing_gmv  sale  buyers   gmv  listing_per_day  \n",
       "2         1         10.0     1       1  10.0         0.013158  \n",
       "3        40        357.0     0       0   0.0         8.000000  \n",
       "25        9        250.0     0       0   0.0         0.346154  \n",
       "27        2         50.0     0       0   0.0         1.000000  \n",
       "42        9        143.0     1       1  25.0         0.157895  "
      ]
     },
     "execution_count": 6,
     "metadata": {},
     "output_type": "execute_result"
    }
   ],
   "source": [
    "# dfa: active user data\n",
    "dfa.head()"
   ]
  },
  {
   "cell_type": "code",
   "execution_count": 7,
   "metadata": {
    "collapsed": false
   },
   "outputs": [
    {
     "data": {
      "text/html": [
       "<div>\n",
       "<table border=\"1\" class=\"dataframe\">\n",
       "  <thead>\n",
       "    <tr style=\"text-align: right;\">\n",
       "      <th></th>\n",
       "      <th>time_on_site</th>\n",
       "      <th>listing</th>\n",
       "    </tr>\n",
       "  </thead>\n",
       "  <tbody>\n",
       "    <tr>\n",
       "      <th>2</th>\n",
       "      <td>76</td>\n",
       "      <td>1</td>\n",
       "    </tr>\n",
       "    <tr>\n",
       "      <th>3</th>\n",
       "      <td>5</td>\n",
       "      <td>40</td>\n",
       "    </tr>\n",
       "    <tr>\n",
       "      <th>25</th>\n",
       "      <td>26</td>\n",
       "      <td>9</td>\n",
       "    </tr>\n",
       "    <tr>\n",
       "      <th>27</th>\n",
       "      <td>2</td>\n",
       "      <td>2</td>\n",
       "    </tr>\n",
       "    <tr>\n",
       "      <th>42</th>\n",
       "      <td>57</td>\n",
       "      <td>9</td>\n",
       "    </tr>\n",
       "  </tbody>\n",
       "</table>\n",
       "</div>"
      ],
      "text/plain": [
       "    time_on_site  listing\n",
       "2             76        1\n",
       "3              5       40\n",
       "25            26        9\n",
       "27             2        2\n",
       "42            57        9"
      ]
     },
     "execution_count": 7,
     "metadata": {},
     "output_type": "execute_result"
    }
   ],
   "source": [
    "dfa[['time_on_site','listing']].head()"
   ]
  },
  {
   "cell_type": "code",
   "execution_count": 8,
   "metadata": {
    "collapsed": false
   },
   "outputs": [],
   "source": [
    "## dff : data frame final - datasets after feature selection\n",
    "\n",
    "dff = dfa.iloc[:,[2,3,4,6,7,8,9,10]]"
   ]
  },
  {
   "cell_type": "code",
   "execution_count": 9,
   "metadata": {
    "collapsed": false
   },
   "outputs": [
    {
     "data": {
      "text/plain": [
       "count    97423.000000\n",
       "mean         0.468860\n",
       "std          1.504483\n",
       "min          0.000000\n",
       "25%          0.037037\n",
       "50%          0.111111\n",
       "75%          0.375000\n",
       "max         89.111111\n",
       "Name: listing_per_day, dtype: float64"
      ]
     },
     "execution_count": 9,
     "metadata": {},
     "output_type": "execute_result"
    }
   ],
   "source": [
    "dff['listing_per_day'].describe()"
   ]
  },
  {
   "cell_type": "markdown",
   "metadata": {},
   "source": [
    "## sort sellers with ratings higher, lower etc."
   ]
  },
  {
   "cell_type": "markdown",
   "metadata": {},
   "source": [
    "### compare revenue from users with ratings (pos, neu, neg) and no ratings"
   ]
  },
  {
   "cell_type": "markdown",
   "metadata": {},
   "source": [
    "### * users with non-zero rating"
   ]
  },
  {
   "cell_type": "code",
   "execution_count": 10,
   "metadata": {
    "collapsed": false
   },
   "outputs": [],
   "source": [
    "df_rating= dff[(dff[['positive_rating','neutral_rating','negative_rating']]>0).any(1)]"
   ]
  },
  {
   "cell_type": "markdown",
   "metadata": {},
   "source": [
    "### * users with non-zero rating"
   ]
  },
  {
   "cell_type": "code",
   "execution_count": 11,
   "metadata": {
    "collapsed": false
   },
   "outputs": [],
   "source": [
    "df_NOrating= dff[(dff[['positive_rating','neutral_rating','negative_rating']]==0).all(1)]"
   ]
  },
  {
   "cell_type": "markdown",
   "metadata": {},
   "source": [
    "##### sanity check for users with/without ratings"
   ]
  },
  {
   "cell_type": "code",
   "execution_count": 12,
   "metadata": {
    "collapsed": false
   },
   "outputs": [
    {
     "data": {
      "text/plain": [
       "97423"
      ]
     },
     "execution_count": 12,
     "metadata": {},
     "output_type": "execute_result"
    }
   ],
   "source": [
    "len(df_rating)+len(df_NOrating)"
   ]
  },
  {
   "cell_type": "markdown",
   "metadata": {},
   "source": [
    "-------------------"
   ]
  },
  {
   "cell_type": "code",
   "execution_count": 13,
   "metadata": {
    "collapsed": false
   },
   "outputs": [],
   "source": [
    "dtemp = dfa.listing\n",
    "dtemp2 = dfa.listing[dfa.listing < 100]"
   ]
  },
  {
   "cell_type": "code",
   "execution_count": 14,
   "metadata": {
    "collapsed": false
   },
   "outputs": [
    {
     "data": {
      "text/plain": [
       "<matplotlib.axes._subplots.AxesSubplot at 0x1187376d0>"
      ]
     },
     "execution_count": 14,
     "metadata": {},
     "output_type": "execute_result"
    },
    {
     "data": {
      "image/png": "[encoded data removed]",
      "text/plain": [
       "<matplotlib.figure.Figure at 0x1184d6cd0>"
      ]
     },
     "metadata": {},
     "output_type": "display_data"
    }
   ],
   "source": [
    "# listing 이 100 보다 작은 유저들의 히스토그램\n",
    "\n",
    "#n, bins, patches = plt.hist(df_active.listing[df_active.listing<100],100)\n",
    "#plt.hist()\n",
    "#n, bins, patches = plt.hist(qq,100)\n",
    "dfa['listing'][dfa['listing']<100].hist(bins = 100)"
   ]
  },
  {
   "cell_type": "markdown",
   "metadata": {},
   "source": [
    "### Most of the sellers are the ones with number of selling items less than 20 or maybe 5. This is very skewed data. The revenue distribution, however, could be different from the number of listing."
   ]
  },
  {
   "cell_type": "code",
   "execution_count": 15,
   "metadata": {
    "collapsed": false
   },
   "outputs": [
    {
     "name": "stderr",
     "output_type": "stream",
     "text": [
      "/Users/seungjinbaek/anaconda/lib/python2.7/site-packages/matplotlib/__init__.py:892: UserWarning: axes.color_cycle is deprecated and replaced with axes.prop_cycle; please use the latter.\n",
      "  warnings.warn(self.msg_depr % (key, alt_key))\n"
     ]
    },
    {
     "data": {
      "image/png": "[encoded data removed]",
      "text/plain": [
       "<matplotlib.figure.Figure at 0x118737810>"
      ]
     },
     "metadata": {},
     "output_type": "display_data"
    }
   ],
   "source": [
    "g = sns.PairGrid(dfa[['time_on_site','listing','listing_gmv','gmv']])\n",
    "g.map_diag(plt.hist)\n",
    "g.map_offdiag(plt.scatter);"
   ]
  },
  {
   "cell_type": "code",
   "execution_count": 16,
   "metadata": {
    "collapsed": false
   },
   "outputs": [
    {
     "data": {
      "text/plain": [
       "<seaborn.axisgrid.JointGrid at 0x11864ee10>"
      ]
     },
     "execution_count": 16,
     "metadata": {},
     "output_type": "execute_result"
    },
    {
     "data": {
      "image/png": "[encoded data removed]",
      "text/plain": [
       "<matplotlib.figure.Figure at 0x1184ae190>"
      ]
     },
     "metadata": {},
     "output_type": "display_data"
    }
   ],
   "source": [
    "sns.jointplot(dff.gmv, dff.listing_per_day)"
   ]
  },
  {
   "cell_type": "markdown",
   "metadata": {},
   "source": [
    "### Maybe apply log function to values and plot???"
   ]
  },
  {
   "cell_type": "markdown",
   "metadata": {},
   "source": [
    "### 1-4. Further data clean-up\n",
    "* Done in previous section: 'dff' is the final dataset to process"
   ]
  },
  {
   "cell_type": "markdown",
   "metadata": {},
   "source": [
    "* Plot 'listing' vs 'sale'"
   ]
  },
  {
   "cell_type": "code",
   "execution_count": 17,
   "metadata": {
    "collapsed": false
   },
   "outputs": [
    {
     "data": {
      "text/plain": [
       "<matplotlib.text.Text at 0x117cbbe90>"
      ]
     },
     "execution_count": 17,
     "metadata": {},
     "output_type": "execute_result"
    },
    {
     "data": {
      "image/png": "[encoded data removed]",
      "text/plain": [
       "<matplotlib.figure.Figure at 0x12072bf10>"
      ]
     },
     "metadata": {},
     "output_type": "display_data"
    }
   ],
   "source": [
    "plt.scatter(dfa['listing'],dfa['sale'])\n",
    "plt.xlabel('listing')\n",
    "plt.ylabel('sale')"
   ]
  },
  {
   "cell_type": "markdown",
   "metadata": {},
   "source": [
    "This is obvious, because sale # cannot exceed listing; all data points are shown below 45 degree line."
   ]
  },
  {
   "cell_type": "code",
   "execution_count": 18,
   "metadata": {
    "collapsed": false
   },
   "outputs": [
    {
     "data": {
      "text/plain": [
       "<matplotlib.text.Text at 0x120b488d0>"
      ]
     },
     "execution_count": 18,
     "metadata": {},
     "output_type": "execute_result"
    },
    {
     "data": {
      "image/png": "[encoded data removed]",
      "text/plain": [
       "<matplotlib.figure.Figure at 0x12006d850>"
      ]
     },
     "metadata": {},
     "output_type": "display_data"
    }
   ],
   "source": [
    "plt.scatter(dff['listing_per_day'],dfa['gmv'])\n",
    "plt.xlabel('listing per day')\n",
    "plt.ylabel('revenue')"
   ]
  },
  {
   "cell_type": "markdown",
   "metadata": {},
   "source": [
    "When the revenue is compared with daily listing, clear correlation is hard to be seen."
   ]
  },
  {
   "cell_type": "markdown",
   "metadata": {},
   "source": [
    "> # 7/11/2016\n",
    "> # Flash idea: using descision tree classifier to segregate sellers?"
   ]
  },
  {
   "cell_type": "markdown",
   "metadata": {},
   "source": [
    "# 2. Dimensional Reduction\n",
    "#### Total 8 features reduced to ?? features"
   ]
  },
  {
   "cell_type": "code",
   "execution_count": 19,
   "metadata": {
    "collapsed": false
   },
   "outputs": [
    {
     "data": {
      "text/html": [
       "<div>\n",
       "<table border=\"1\" class=\"dataframe\">\n",
       "  <thead>\n",
       "    <tr style=\"text-align: right;\">\n",
       "      <th></th>\n",
       "      <th>positive_rating</th>\n",
       "      <th>neutral_rating</th>\n",
       "      <th>negative_rating</th>\n",
       "      <th>listing_gmv</th>\n",
       "      <th>sale</th>\n",
       "      <th>buyers</th>\n",
       "      <th>gmv</th>\n",
       "      <th>listing_per_day</th>\n",
       "    </tr>\n",
       "  </thead>\n",
       "  <tbody>\n",
       "    <tr>\n",
       "      <th>2</th>\n",
       "      <td>1</td>\n",
       "      <td>0</td>\n",
       "      <td>0</td>\n",
       "      <td>10.0</td>\n",
       "      <td>1</td>\n",
       "      <td>1</td>\n",
       "      <td>10.0</td>\n",
       "      <td>0.013158</td>\n",
       "    </tr>\n",
       "    <tr>\n",
       "      <th>3</th>\n",
       "      <td>0</td>\n",
       "      <td>0</td>\n",
       "      <td>0</td>\n",
       "      <td>357.0</td>\n",
       "      <td>0</td>\n",
       "      <td>0</td>\n",
       "      <td>0.0</td>\n",
       "      <td>8.000000</td>\n",
       "    </tr>\n",
       "    <tr>\n",
       "      <th>25</th>\n",
       "      <td>0</td>\n",
       "      <td>0</td>\n",
       "      <td>0</td>\n",
       "      <td>250.0</td>\n",
       "      <td>0</td>\n",
       "      <td>0</td>\n",
       "      <td>0.0</td>\n",
       "      <td>0.346154</td>\n",
       "    </tr>\n",
       "    <tr>\n",
       "      <th>27</th>\n",
       "      <td>0</td>\n",
       "      <td>0</td>\n",
       "      <td>0</td>\n",
       "      <td>50.0</td>\n",
       "      <td>0</td>\n",
       "      <td>0</td>\n",
       "      <td>0.0</td>\n",
       "      <td>1.000000</td>\n",
       "    </tr>\n",
       "    <tr>\n",
       "      <th>42</th>\n",
       "      <td>0</td>\n",
       "      <td>0</td>\n",
       "      <td>0</td>\n",
       "      <td>143.0</td>\n",
       "      <td>1</td>\n",
       "      <td>1</td>\n",
       "      <td>25.0</td>\n",
       "      <td>0.157895</td>\n",
       "    </tr>\n",
       "  </tbody>\n",
       "</table>\n",
       "</div>"
      ],
      "text/plain": [
       "    positive_rating  neutral_rating  negative_rating  listing_gmv  sale  \\\n",
       "2                 1               0                0         10.0     1   \n",
       "3                 0               0                0        357.0     0   \n",
       "25                0               0                0        250.0     0   \n",
       "27                0               0                0         50.0     0   \n",
       "42                0               0                0        143.0     1   \n",
       "\n",
       "    buyers   gmv  listing_per_day  \n",
       "2        1  10.0         0.013158  \n",
       "3        0   0.0         8.000000  \n",
       "25       0   0.0         0.346154  \n",
       "27       0   0.0         1.000000  \n",
       "42       1  25.0         0.157895  "
      ]
     },
     "execution_count": 19,
     "metadata": {},
     "output_type": "execute_result"
    }
   ],
   "source": [
    "dff.head()"
   ]
  },
  {
   "cell_type": "markdown",
   "metadata": {},
   "source": [
    "## 2-1. feature scaling\n",
    "* Normalize each column before applying principal component analysis"
   ]
  },
  {
   "cell_type": "code",
   "execution_count": 20,
   "metadata": {
    "collapsed": true
   },
   "outputs": [],
   "source": [
    "from sklearn.preprocessing import MinMaxScaler"
   ]
  },
  {
   "cell_type": "code",
   "execution_count": 21,
   "metadata": {
    "collapsed": false
   },
   "outputs": [
    {
     "data": {
      "text/html": [
       "<div>\n",
       "<table border=\"1\" class=\"dataframe\">\n",
       "  <thead>\n",
       "    <tr style=\"text-align: right;\">\n",
       "      <th></th>\n",
       "      <th>positive_rating</th>\n",
       "      <th>neutral_rating</th>\n",
       "      <th>negative_rating</th>\n",
       "      <th>listing_gmv</th>\n",
       "      <th>sale</th>\n",
       "      <th>buyers</th>\n",
       "      <th>gmv</th>\n",
       "      <th>listing_per_day</th>\n",
       "    </tr>\n",
       "  </thead>\n",
       "  <tbody>\n",
       "    <tr>\n",
       "      <th>count</th>\n",
       "      <td>97423.000000</td>\n",
       "      <td>97423.000000</td>\n",
       "      <td>97423.000000</td>\n",
       "      <td>97423.000000</td>\n",
       "      <td>97423.000000</td>\n",
       "      <td>97423.000000</td>\n",
       "      <td>97423.000000</td>\n",
       "      <td>97423.000000</td>\n",
       "    </tr>\n",
       "    <tr>\n",
       "      <th>mean</th>\n",
       "      <td>2.387578</td>\n",
       "      <td>0.164581</td>\n",
       "      <td>0.036449</td>\n",
       "      <td>379.208462</td>\n",
       "      <td>2.699937</td>\n",
       "      <td>2.576353</td>\n",
       "      <td>67.179198</td>\n",
       "      <td>0.468860</td>\n",
       "    </tr>\n",
       "    <tr>\n",
       "      <th>std</th>\n",
       "      <td>11.463812</td>\n",
       "      <td>1.150350</td>\n",
       "      <td>0.366551</td>\n",
       "      <td>942.643014</td>\n",
       "      <td>13.607197</td>\n",
       "      <td>12.469444</td>\n",
       "      <td>278.430278</td>\n",
       "      <td>1.504483</td>\n",
       "    </tr>\n",
       "    <tr>\n",
       "      <th>min</th>\n",
       "      <td>0.000000</td>\n",
       "      <td>0.000000</td>\n",
       "      <td>0.000000</td>\n",
       "      <td>3.000000</td>\n",
       "      <td>0.000000</td>\n",
       "      <td>0.000000</td>\n",
       "      <td>0.000000</td>\n",
       "      <td>0.000000</td>\n",
       "    </tr>\n",
       "    <tr>\n",
       "      <th>25%</th>\n",
       "      <td>0.000000</td>\n",
       "      <td>0.000000</td>\n",
       "      <td>0.000000</td>\n",
       "      <td>50.000000</td>\n",
       "      <td>0.000000</td>\n",
       "      <td>0.000000</td>\n",
       "      <td>0.000000</td>\n",
       "      <td>0.037037</td>\n",
       "    </tr>\n",
       "    <tr>\n",
       "      <th>50%</th>\n",
       "      <td>0.000000</td>\n",
       "      <td>0.000000</td>\n",
       "      <td>0.000000</td>\n",
       "      <td>149.000000</td>\n",
       "      <td>0.000000</td>\n",
       "      <td>0.000000</td>\n",
       "      <td>0.000000</td>\n",
       "      <td>0.111111</td>\n",
       "    </tr>\n",
       "    <tr>\n",
       "      <th>75%</th>\n",
       "      <td>1.000000</td>\n",
       "      <td>0.000000</td>\n",
       "      <td>0.000000</td>\n",
       "      <td>375.000000</td>\n",
       "      <td>2.000000</td>\n",
       "      <td>2.000000</td>\n",
       "      <td>42.000000</td>\n",
       "      <td>0.375000</td>\n",
       "    </tr>\n",
       "    <tr>\n",
       "      <th>max</th>\n",
       "      <td>1430.000000</td>\n",
       "      <td>164.000000</td>\n",
       "      <td>57.000000</td>\n",
       "      <td>57706.000000</td>\n",
       "      <td>1826.000000</td>\n",
       "      <td>1595.000000</td>\n",
       "      <td>23175.000000</td>\n",
       "      <td>89.111111</td>\n",
       "    </tr>\n",
       "  </tbody>\n",
       "</table>\n",
       "</div>"
      ],
      "text/plain": [
       "       positive_rating  neutral_rating  negative_rating   listing_gmv  \\\n",
       "count     97423.000000    97423.000000     97423.000000  97423.000000   \n",
       "mean          2.387578        0.164581         0.036449    379.208462   \n",
       "std          11.463812        1.150350         0.366551    942.643014   \n",
       "min           0.000000        0.000000         0.000000      3.000000   \n",
       "25%           0.000000        0.000000         0.000000     50.000000   \n",
       "50%           0.000000        0.000000         0.000000    149.000000   \n",
       "75%           1.000000        0.000000         0.000000    375.000000   \n",
       "max        1430.000000      164.000000        57.000000  57706.000000   \n",
       "\n",
       "               sale        buyers           gmv  listing_per_day  \n",
       "count  97423.000000  97423.000000  97423.000000     97423.000000  \n",
       "mean       2.699937      2.576353     67.179198         0.468860  \n",
       "std       13.607197     12.469444    278.430278         1.504483  \n",
       "min        0.000000      0.000000      0.000000         0.000000  \n",
       "25%        0.000000      0.000000      0.000000         0.037037  \n",
       "50%        0.000000      0.000000      0.000000         0.111111  \n",
       "75%        2.000000      2.000000     42.000000         0.375000  \n",
       "max     1826.000000   1595.000000  23175.000000        89.111111  "
      ]
     },
     "execution_count": 21,
     "metadata": {},
     "output_type": "execute_result"
    }
   ],
   "source": [
    "dff.describe()"
   ]
  },
  {
   "cell_type": "code",
   "execution_count": 22,
   "metadata": {
    "collapsed": false
   },
   "outputs": [
    {
     "data": {
      "text/html": [
       "<div>\n",
       "<table border=\"1\" class=\"dataframe\">\n",
       "  <thead>\n",
       "    <tr style=\"text-align: right;\">\n",
       "      <th></th>\n",
       "      <th>positive_rating</th>\n",
       "      <th>neutral_rating</th>\n",
       "      <th>negative_rating</th>\n",
       "      <th>listing_gmv</th>\n",
       "      <th>sale</th>\n",
       "      <th>buyers</th>\n",
       "      <th>gmv</th>\n",
       "      <th>listing_per_day</th>\n",
       "    </tr>\n",
       "  </thead>\n",
       "  <tbody>\n",
       "    <tr>\n",
       "      <th>0</th>\n",
       "      <td>0.000699</td>\n",
       "      <td>0.0</td>\n",
       "      <td>0.0</td>\n",
       "      <td>0.000121</td>\n",
       "      <td>0.000548</td>\n",
       "      <td>0.000627</td>\n",
       "      <td>0.000431</td>\n",
       "      <td>0.000148</td>\n",
       "    </tr>\n",
       "    <tr>\n",
       "      <th>1</th>\n",
       "      <td>0.000000</td>\n",
       "      <td>0.0</td>\n",
       "      <td>0.0</td>\n",
       "      <td>0.006135</td>\n",
       "      <td>0.000000</td>\n",
       "      <td>0.000000</td>\n",
       "      <td>0.000000</td>\n",
       "      <td>0.089776</td>\n",
       "    </tr>\n",
       "    <tr>\n",
       "      <th>2</th>\n",
       "      <td>0.000000</td>\n",
       "      <td>0.0</td>\n",
       "      <td>0.0</td>\n",
       "      <td>0.004281</td>\n",
       "      <td>0.000000</td>\n",
       "      <td>0.000000</td>\n",
       "      <td>0.000000</td>\n",
       "      <td>0.003885</td>\n",
       "    </tr>\n",
       "    <tr>\n",
       "      <th>3</th>\n",
       "      <td>0.000000</td>\n",
       "      <td>0.0</td>\n",
       "      <td>0.0</td>\n",
       "      <td>0.000815</td>\n",
       "      <td>0.000000</td>\n",
       "      <td>0.000000</td>\n",
       "      <td>0.000000</td>\n",
       "      <td>0.011222</td>\n",
       "    </tr>\n",
       "    <tr>\n",
       "      <th>4</th>\n",
       "      <td>0.000000</td>\n",
       "      <td>0.0</td>\n",
       "      <td>0.0</td>\n",
       "      <td>0.002426</td>\n",
       "      <td>0.000548</td>\n",
       "      <td>0.000627</td>\n",
       "      <td>0.001079</td>\n",
       "      <td>0.001772</td>\n",
       "    </tr>\n",
       "  </tbody>\n",
       "</table>\n",
       "</div>"
      ],
      "text/plain": [
       "   positive_rating  neutral_rating  negative_rating  listing_gmv      sale  \\\n",
       "0         0.000699             0.0              0.0     0.000121  0.000548   \n",
       "1         0.000000             0.0              0.0     0.006135  0.000000   \n",
       "2         0.000000             0.0              0.0     0.004281  0.000000   \n",
       "3         0.000000             0.0              0.0     0.000815  0.000000   \n",
       "4         0.000000             0.0              0.0     0.002426  0.000548   \n",
       "\n",
       "     buyers       gmv  listing_per_day  \n",
       "0  0.000627  0.000431         0.000148  \n",
       "1  0.000000  0.000000         0.089776  \n",
       "2  0.000000  0.000000         0.003885  \n",
       "3  0.000000  0.000000         0.011222  \n",
       "4  0.000627  0.001079         0.001772  "
      ]
     },
     "execution_count": 22,
     "metadata": {},
     "output_type": "execute_result"
    }
   ],
   "source": [
    "scaler = MinMaxScaler()\n",
    "\n",
    "# scaled data\n",
    "dfs = pd.DataFrame(scaler.fit_transform(dff), columns = dff.columns)\n",
    "\n",
    "# all columns are now 'scaled'\n",
    "dfs.head()"
   ]
  },
  {
   "cell_type": "markdown",
   "metadata": {},
   "source": [
    "## 2-2. PCA\n",
    "\n",
    "* I have excluded all ratings features (positive, neutral, negative) because most of the ratings are on positive side and only a few negative/neutral ones. \n",
    "* Instead of including all three ratings separately, I think it'd be better to combine all into one scalable variable such as rating stars in Netflix or Amazon ratings. This process, however, was skipped for this study."
   ]
  },
  {
   "cell_type": "markdown",
   "metadata": {},
   "source": [
    "### 2-2-1 include only a few features  (ratings NOT included)"
   ]
  },
  {
   "cell_type": "code",
   "execution_count": 23,
   "metadata": {
    "collapsed": false
   },
   "outputs": [
    {
     "name": "stdout",
     "output_type": "stream",
     "text": [
      "[  5.98187649e-01   2.36452149e-01   1.29020186e-01   3.61139428e-02\n",
      "   2.26073134e-04]\n"
     ]
    }
   ],
   "source": [
    "from sklearn.decomposition import PCA\n",
    "import renders as rs\n",
    "\n",
    "pca = PCA().fit(dfs.iloc[:,3:])  # including columns ['listing_gmv' ~ 'listing_per_day']\n",
    "print pca.explained_variance_ratio_"
   ]
  },
  {
   "cell_type": "markdown",
   "metadata": {},
   "source": [
    "### 2-2-2 include all features and let PCA handles the rest"
   ]
  },
  {
   "cell_type": "code",
   "execution_count": 24,
   "metadata": {
    "collapsed": false
   },
   "outputs": [
    {
     "name": "stdout",
     "output_type": "stream",
     "text": [
      "[  5.67652802e-01   2.14000204e-01   1.44869071e-01   4.58475152e-02\n",
      "   1.81139443e-02   9.07716579e-03   3.57220851e-04   8.20768457e-05]\n"
     ]
    }
   ],
   "source": [
    "from sklearn.decomposition import PCA\n",
    "pca_all = PCA().fit(dfs)  # including columns ['listing_gmv' ~ 'listing_per_day']\n",
    "print pca_all.explained_variance_ratio_"
   ]
  },
  {
   "cell_type": "markdown",
   "metadata": {},
   "source": [
    "### Based on the PCA (using all features), top three dimensions were selected and the feature dimension is now reduced to 3."
   ]
  },
  {
   "cell_type": "code",
   "execution_count": 25,
   "metadata": {
    "collapsed": false
   },
   "outputs": [
    {
     "data": {
      "text/html": [
       "<div>\n",
       "<table border=\"1\" class=\"dataframe\">\n",
       "  <thead>\n",
       "    <tr style=\"text-align: right;\">\n",
       "      <th></th>\n",
       "      <th>positive_rating</th>\n",
       "      <th>neutral_rating</th>\n",
       "      <th>negative_rating</th>\n",
       "      <th>listing_gmv</th>\n",
       "      <th>sale</th>\n",
       "      <th>buyers</th>\n",
       "      <th>gmv</th>\n",
       "      <th>listing_per_day</th>\n",
       "    </tr>\n",
       "  </thead>\n",
       "  <tbody>\n",
       "    <tr>\n",
       "      <th>0</th>\n",
       "      <td>0.000699</td>\n",
       "      <td>0.0</td>\n",
       "      <td>0.0</td>\n",
       "      <td>0.000121</td>\n",
       "      <td>0.000548</td>\n",
       "      <td>0.000627</td>\n",
       "      <td>0.000431</td>\n",
       "      <td>0.000148</td>\n",
       "    </tr>\n",
       "    <tr>\n",
       "      <th>1</th>\n",
       "      <td>0.000000</td>\n",
       "      <td>0.0</td>\n",
       "      <td>0.0</td>\n",
       "      <td>0.006135</td>\n",
       "      <td>0.000000</td>\n",
       "      <td>0.000000</td>\n",
       "      <td>0.000000</td>\n",
       "      <td>0.089776</td>\n",
       "    </tr>\n",
       "    <tr>\n",
       "      <th>2</th>\n",
       "      <td>0.000000</td>\n",
       "      <td>0.0</td>\n",
       "      <td>0.0</td>\n",
       "      <td>0.004281</td>\n",
       "      <td>0.000000</td>\n",
       "      <td>0.000000</td>\n",
       "      <td>0.000000</td>\n",
       "      <td>0.003885</td>\n",
       "    </tr>\n",
       "    <tr>\n",
       "      <th>3</th>\n",
       "      <td>0.000000</td>\n",
       "      <td>0.0</td>\n",
       "      <td>0.0</td>\n",
       "      <td>0.000815</td>\n",
       "      <td>0.000000</td>\n",
       "      <td>0.000000</td>\n",
       "      <td>0.000000</td>\n",
       "      <td>0.011222</td>\n",
       "    </tr>\n",
       "    <tr>\n",
       "      <th>4</th>\n",
       "      <td>0.000000</td>\n",
       "      <td>0.0</td>\n",
       "      <td>0.0</td>\n",
       "      <td>0.002426</td>\n",
       "      <td>0.000548</td>\n",
       "      <td>0.000627</td>\n",
       "      <td>0.001079</td>\n",
       "      <td>0.001772</td>\n",
       "    </tr>\n",
       "  </tbody>\n",
       "</table>\n",
       "</div>"
      ],
      "text/plain": [
       "   positive_rating  neutral_rating  negative_rating  listing_gmv      sale  \\\n",
       "0         0.000699             0.0              0.0     0.000121  0.000548   \n",
       "1         0.000000             0.0              0.0     0.006135  0.000000   \n",
       "2         0.000000             0.0              0.0     0.004281  0.000000   \n",
       "3         0.000000             0.0              0.0     0.000815  0.000000   \n",
       "4         0.000000             0.0              0.0     0.002426  0.000548   \n",
       "\n",
       "     buyers       gmv  listing_per_day  \n",
       "0  0.000627  0.000431         0.000148  \n",
       "1  0.000000  0.000000         0.089776  \n",
       "2  0.000000  0.000000         0.003885  \n",
       "3  0.000000  0.000000         0.011222  \n",
       "4  0.000627  0.001079         0.001772  "
      ]
     },
     "execution_count": 25,
     "metadata": {},
     "output_type": "execute_result"
    }
   ],
   "source": [
    "dfs.head()"
   ]
  },
  {
   "cell_type": "markdown",
   "metadata": {},
   "source": [
    "## Testing PCA with same number of original features (8 features)"
   ]
  },
  {
   "cell_type": "code",
   "execution_count": 26,
   "metadata": {
    "collapsed": false
   },
   "outputs": [
    {
     "data": {
      "image/png": "[encoded data removed]",
      "text/plain": [
       "<matplotlib.figure.Figure at 0x122ee3b50>"
      ]
     },
     "metadata": {},
     "output_type": "display_data"
    }
   ],
   "source": [
    "pca8 = PCA(n_components=8)\n",
    "pca8.fit(dfs)  # dfs: scaled dff\n",
    "\n",
    "reduced8 = pca8.transform(dfs)  # df_reduced: change variable names\n",
    "\n",
    "#dfr8.shape\n",
    "pca8_results = rs.pca_results(dfs,pca8)"
   ]
  },
  {
   "cell_type": "markdown",
   "metadata": {},
   "source": [
    "## Must select first FIVE dimension to maintain 99% of all variances in data"
   ]
  },
  {
   "cell_type": "code",
   "execution_count": 27,
   "metadata": {
    "collapsed": false
   },
   "outputs": [
    {
     "data": {
      "text/plain": [
       "(97423, 5)"
      ]
     },
     "execution_count": 27,
     "metadata": {},
     "output_type": "execute_result"
    }
   ],
   "source": [
    "pca5 = PCA(n_components=5).fit(dfs)\n",
    "reduced5 = pca5.transform(dfs)  # df_reduced: change variable names\n",
    "\n",
    "reduced5.shape"
   ]
  },
  {
   "cell_type": "markdown",
   "metadata": {},
   "source": [
    "## Visualize feature distributions\n",
    "To get a better understanding of the dataset, I construct a scatter matrix of each of the data features present in the data. "
   ]
  },
  {
   "cell_type": "code",
   "execution_count": 28,
   "metadata": {
    "collapsed": false
   },
   "outputs": [
    {
     "data": {
      "image/png": "[encoded data removed]",
      "text/plain": [
       "<matplotlib.figure.Figure at 0x122ee3d50>"
      ]
     },
     "metadata": {},
     "output_type": "display_data"
    }
   ],
   "source": [
    "# pd.scatter_matrix(dff, alpha = 0.3, figsize = (16,10), diagonal = 'kde');\n",
    "\n",
    "# - use 'normalized' dataset\n",
    "\n",
    "pd.scatter_matrix(dfs, alpha = 0.3, figsize = (16,10), diagonal = 'kde');"
   ]
  },
  {
   "cell_type": "markdown",
   "metadata": {},
   "source": [
    "# 3. Clustering Analysis"
   ]
  },
  {
   "cell_type": "markdown",
   "metadata": {},
   "source": [
    "## 3-1. Assumption"
   ]
  },
  {
   "cell_type": "markdown",
   "metadata": {},
   "source": [
    "#### I previously assumed that the sellers with no listing were categorized as 'new seller,' therefore the remaining 'active' sellers will need to be segmented into THREE groups.\n",
    "1. Casual seller\n",
    "2. Business seller\n",
    "3. Top seller"
   ]
  },
  {
   "cell_type": "markdown",
   "metadata": {},
   "source": [
    "> # 7/11/2016, 9/11/2016\n",
    "> # For this project, we don't assume n = 3. Try multiple n and then compute silhouette coefficient value\n",
    "\n",
    "> # And not just Kmeans clustering, but try other classifiers too."
   ]
  },
  {
   "cell_type": "markdown",
   "metadata": {},
   "source": [
    "#### After PCA, clustering analysis does not label the data, but rather segregates into group (in this case, three) purely based on the data; it's up to a human modeler to label them later, meaningfully."
   ]
  },
  {
   "cell_type": "markdown",
   "metadata": {},
   "source": [
    "## 3-2. Clustering"
   ]
  },
  {
   "cell_type": "markdown",
   "metadata": {},
   "source": [
    "### with sample_size = 20000"
   ]
  },
  {
   "cell_type": "code",
   "execution_count": 29,
   "metadata": {
    "collapsed": false
   },
   "outputs": [
    {
     "name": "stdout",
     "output_type": "stream",
     "text": [
      "numer of clustering is 2 : silhouette score is 0.897632596515\n",
      "elapsed time 63.29\n",
      "numer of clustering is 3 : silhouette score is 0.85379513367\n",
      "elapsed time 59.41\n",
      "numer of clustering is 4 : silhouette score is 0.834199274479\n",
      "elapsed time 60.02\n",
      "numer of clustering is 5 : silhouette score is 0.76368885012\n",
      "elapsed time 53.41\n",
      "numer of clustering is 6 : silhouette score is 0.703858097564\n",
      "elapsed time 56.75\n"
     ]
    }
   ],
   "source": [
    "from sklearn.cluster import KMeans\n",
    "from sklearn.metrics import silhouette_score\n",
    "import time\n",
    "\n",
    "for n in range(2,7):\n",
    "    startT = time.time()\n",
    "\n",
    "    clusterer = KMeans(init = 'k-means++', n_clusters=n, n_init=10, max_iter = 500, \n",
    "                       random_state= 200)\n",
    "    clusterer.fit(reduced5)\n",
    "\n",
    "    # TODO: Predict the cluster for each data point\n",
    "    # preds = clusterer.predict(reduced5)  # shouldn't use .predict, use fit_predict\n",
    "    preds = clusterer.fit_predict(reduced5)  # preds = clusterer.labels_ \n",
    "\n",
    "    # TODO: Find the cluster centers\n",
    "    #centers = clusterer.cluster_centers_\n",
    "\n",
    "    # TODO: Predict the cluster for each transformed sample data point\n",
    "    # sample_preds = clusterer.predict(pca_samples)\n",
    "\n",
    "    # TODO: Calculate the mean silhouette coefficient for the number of clusters chosen\n",
    "\n",
    "\n",
    "    score = silhouette_score(reduced5, preds,sample_size=20000)\n",
    "    endT = time.time()\n",
    "    print 'numer of clustering is',n,': silhouette score is',score\n",
    "    print \"elapsed time %.2f\" % (endT-startT)"
   ]
  },
  {
   "cell_type": "code",
   "execution_count": 30,
   "metadata": {
    "collapsed": false
   },
   "outputs": [
    {
     "name": "stdout",
     "output_type": "stream",
     "text": [
      "numer of clustering is 2 : silhouette score is 0.89675112835\n",
      "elapsed time 43.62\n",
      "numer of clustering is 3 : silhouette score is 0.851357413779\n",
      "elapsed time 47.73\n",
      "numer of clustering is 4 : silhouette score is 0.837396934233\n",
      "elapsed time 48.00\n",
      "numer of clustering is 5 : silhouette score is 0.765666878283\n",
      "elapsed time 46.62\n",
      "numer of clustering is 6 : silhouette score is 0.702166908315\n",
      "elapsed time 49.82\n"
     ]
    }
   ],
   "source": [
    "from sklearn.cluster import KMeans\n",
    "from sklearn.metrics import silhouette_score\n",
    "import time\n",
    "\n",
    "for n in range(2,7):\n",
    "    startT = time.time()\n",
    "\n",
    "    clusterer = KMeans(init = 'k-means++', n_clusters=n, n_init=10, max_iter = 500, \n",
    "                       random_state= 200)\n",
    "    clusterer.fit(reduced5)\n",
    "\n",
    "    # TODO: Predict the cluster for each data point\n",
    "    # preds = clusterer.predict(reduced5)  # shouldn't use .predict, use fit_predict\n",
    "    preds = clusterer.fit_predict(reduced5)  # preds = clusterer.labels_ \n",
    "\n",
    "    # TODO: Find the cluster centers\n",
    "    #centers = clusterer.cluster_centers_\n",
    "\n",
    "    # TODO: Predict the cluster for each transformed sample data point\n",
    "    # sample_preds = clusterer.predict(pca_samples)\n",
    "\n",
    "    # TODO: Calculate the mean silhouette coefficient for the number of clusters chosen\n",
    "\n",
    "\n",
    "    score = silhouette_score(reduced5, preds,sample_size=20000)\n",
    "    endT = time.time()\n",
    "    print 'numer of clustering is',n,': silhouette score is',score\n",
    "    print \"elapsed time %.2f\" % (endT-startT)"
   ]
  },
  {
   "cell_type": "markdown",
   "metadata": {},
   "source": [
    "## TESTING plot!"
   ]
  },
  {
   "cell_type": "code",
   "execution_count": 39,
   "metadata": {
    "collapsed": false
   },
   "outputs": [],
   "source": [
    "from sklearn.cluster import KMeans\n",
    "from sklearn.metrics import silhouette_samples, silhouette_score\n",
    "import matplotlib.pyplot as plt\n",
    "import matplotlib.cm as cm\n",
    "import time\n",
    "\n",
    "n = 3\n",
    "input_data = reduced5\n",
    "clusterer = KMeans(init = 'k-means++', n_clusters=n, n_init=10, max_iter = 500, \n",
    "                       random_state= 200)\n",
    "clusterer.fit(input_data)\n",
    "cluster_labels = clusterer.fit_predict(input_data)"
   ]
  },
  {
   "cell_type": "code",
   "execution_count": 40,
   "metadata": {
    "collapsed": false
   },
   "outputs": [
    {
     "data": {
      "text/plain": [
       "numpy.ndarray"
      ]
     },
     "execution_count": 40,
     "metadata": {},
     "output_type": "execute_result"
    }
   ],
   "source": [
    "type(input_data)"
   ]
  },
  {
   "cell_type": "code",
   "execution_count": 41,
   "metadata": {
    "collapsed": false
   },
   "outputs": [
    {
     "data": {
      "text/plain": [
       "(97423, 5)"
      ]
     },
     "execution_count": 41,
     "metadata": {},
     "output_type": "execute_result"
    }
   ],
   "source": [
    "input_data.shape"
   ]
  },
  {
   "cell_type": "markdown",
   "metadata": {},
   "source": [
    "## Scripts below will crash !!\n",
    "\n",
    "\n",
    "#### `silhouette_score` has a `sample_size` parameter to reduce the number of data, but `silhouette_sample` does not. And it will try to compute ALL of the data. \n",
    "\n",
    "#### I have to select random rows BEFORE calculating silhouette score"
   ]
  },
  {
   "cell_type": "code",
   "execution_count": 58,
   "metadata": {
    "collapsed": true
   },
   "outputs": [],
   "source": [
    "# This will crash!\n",
    "startT = time.time()\n",
    "\n",
    "# random row selection\n",
    "row_selections = np.random.randint(len(input_data),size=30000)\n",
    "input_data_rd = reduced5[row_selections,:]"
   ]
  },
  {
   "cell_type": "code",
   "execution_count": 59,
   "metadata": {
    "collapsed": false
   },
   "outputs": [
    {
     "data": {
      "text/plain": [
       "(30000,)"
      ]
     },
     "execution_count": 59,
     "metadata": {},
     "output_type": "execute_result"
    }
   ],
   "source": [
    "row_selections.shape"
   ]
  },
  {
   "cell_type": "code",
   "execution_count": 60,
   "metadata": {
    "collapsed": false
   },
   "outputs": [
    {
     "data": {
      "text/plain": [
       "(30000, 5)"
      ]
     },
     "execution_count": 60,
     "metadata": {},
     "output_type": "execute_result"
    }
   ],
   "source": [
    "input_data_rd.shape"
   ]
  },
  {
   "cell_type": "code",
   "execution_count": 61,
   "metadata": {
    "collapsed": false
   },
   "outputs": [
    {
     "data": {
      "text/plain": [
       "(97423,)"
      ]
     },
     "execution_count": 61,
     "metadata": {},
     "output_type": "execute_result"
    }
   ],
   "source": [
    "cluster_labels.shape"
   ]
  },
  {
   "cell_type": "code",
   "execution_count": 62,
   "metadata": {
    "collapsed": false
   },
   "outputs": [
    {
     "data": {
      "text/plain": [
       "(30000, 5)"
      ]
     },
     "execution_count": 62,
     "metadata": {},
     "output_type": "execute_result"
    }
   ],
   "source": [
    "input_data_rd.shape"
   ]
  },
  {
   "cell_type": "code",
   "execution_count": 53,
   "metadata": {
    "collapsed": false
   },
   "outputs": [
    {
     "name": "stdout",
     "output_type": "stream",
     "text": [
      "numer of clustering is 3 : silhouette score is 0.856043586372\n",
      "elapsed time 82.21\n"
     ]
    }
   ],
   "source": [
    "# size = 20000\n",
    "\n",
    "#silhouette_avg = silhouette_score(input_data, cluster_labels ,sample_size=20000)\n",
    "startT = time.time()\n",
    "silhouette_avg = silhouette_score(input_data[row_selections,:],\n",
    "                                  cluster_labels[row_selections])\n",
    "sample_silhouette_values = silhouette_samples(input_data[row_selections,:], \n",
    "                                              cluster_labels[row_selections])\n",
    "endT = time.time()\n",
    "print 'numer of clustering is',n,': silhouette score is',silhouette_avg\n",
    "print \"elapsed time %.2f\" % (endT-startT)"
   ]
  },
  {
   "cell_type": "code",
   "execution_count": 63,
   "metadata": {
    "collapsed": false
   },
   "outputs": [
    {
     "name": "stdout",
     "output_type": "stream",
     "text": [
      "numer of clustering is 3 : silhouette score is 0.847900670994\n",
      "elapsed time 976.36\n"
     ]
    }
   ],
   "source": [
    "# size = 30000\n",
    "\n",
    "#silhouette_avg = silhouette_score(input_data, cluster_labels ,sample_size=20000)\n",
    "startT = time.time()\n",
    "silhouette_avg = silhouette_score(input_data[row_selections,:],\n",
    "                                  cluster_labels[row_selections])\n",
    "sample_silhouette_values = silhouette_samples(input_data[row_selections,:], \n",
    "                                              cluster_labels[row_selections])\n",
    "endT = time.time()\n",
    "print 'numer of clustering is',n,': silhouette score is',silhouette_avg\n",
    "print \"elapsed time %.2f\" % (endT-startT)"
   ]
  },
  {
   "cell_type": "code",
   "execution_count": 55,
   "metadata": {
    "collapsed": false
   },
   "outputs": [
    {
     "data": {
      "text/plain": [
       "(20000,)"
      ]
     },
     "execution_count": 55,
     "metadata": {},
     "output_type": "execute_result"
    }
   ],
   "source": [
    "sample_silhouette_values.shape"
   ]
  },
  {
   "cell_type": "code",
   "execution_count": 57,
   "metadata": {
    "collapsed": false
   },
   "outputs": [
    {
     "name": "stdout",
     "output_type": "stream",
     "text": [
      "19360\n",
      "14\n",
      "626\n"
     ]
    },
    {
     "data": {
      "image/png": "[encoded data removed]",
      "text/plain": [
       "<matplotlib.figure.Figure at 0x148802510>"
      ]
     },
     "metadata": {},
     "output_type": "display_data"
    }
   ],
   "source": [
    "y_lower = 10\n",
    "nn_cluster = 3\n",
    "\n",
    "fig, (ax1,ax2) = plt.subplots(1,2)\n",
    "fig.set_size_inches(18,7)\n",
    "\n",
    "for i in range(nn_cluster):\n",
    "    ith_cluster_silhouette_values = sample_silhouette_values[cluster_labels[row_selections] == i]\n",
    "    ith_cluster_silhouette_values.sort()\n",
    "    \n",
    "    size_cluster_i = ith_cluster_silhouette_values.shape[0]\n",
    "    y_upper = y_lower + size_cluster_i\n",
    "    color = cm.spectral(float(i)/nn_cluster)\n",
    "    ax1.fill_betweenx(np.arange(y_lower,y_upper), 0,\n",
    "                     ith_cluster_silhouette_values,\n",
    "                     facecolor = color, edgecolor = color, alpha = 0.7)\n",
    "    print size_cluster_i"
   ]
  },
  {
   "cell_type": "code",
   "execution_count": 49,
   "metadata": {
    "collapsed": false
   },
   "outputs": [
    {
     "name": "stdout",
     "output_type": "stream",
     "text": [
      "numer of clustering is 2 : silhouette score is 0.900944700067\n",
      "elapsed time 100.74\n",
      "numer of clustering is 3 : silhouette score is 0.851633561376\n",
      "elapsed time 102.14\n",
      "numer of clustering is 4 : silhouette score is 0.83789208154\n",
      "elapsed time 114.13\n",
      "numer of clustering is 5 : silhouette score is 0.763593283361\n",
      "elapsed time 113.06\n",
      "numer of clustering is 6 : silhouette score is 0.700543436053\n",
      "elapsed time 111.16\n"
     ]
    }
   ],
   "source": [
    "from sklearn.cluster import KMeans\n",
    "from sklearn.metrics import silhouette_score\n",
    "import time\n",
    "\n",
    "for n in range(2,7):\n",
    "    startT = time.time()\n",
    "\n",
    "    clusterer = KMeans(init = 'k-means++', n_clusters=n, n_init=10, max_iter = 500, \n",
    "                       random_state= 200)\n",
    "    clusterer.fit(reduced5)\n",
    "\n",
    "    # TODO: Predict the cluster for each data point\n",
    "    # preds = clusterer.predict(reduced5)  # shouldn't use .predict, use fit_predict\n",
    "    preds = clusterer.fit_predict(reduced5)  # preds = clusterer.labels_ \n",
    "\n",
    "    # TODO: Find the cluster centers\n",
    "    #centers = clusterer.cluster_centers_\n",
    "\n",
    "    # TODO: Predict the cluster for each transformed sample data point\n",
    "    # sample_preds = clusterer.predict(pca_samples)\n",
    "\n",
    "    # TODO: Calculate the mean silhouette coefficient for the number of clusters chosen\n",
    "\n",
    "\n",
    "    score = silhouette_score(reduced5, preds,sample_size=30000)\n",
    "    endT = time.time()\n",
    "    print 'numer of clustering is',n,': silhouette score is',score\n",
    "    print \"elapsed time %.2f\" % (endT-startT)"
   ]
  },
  {
   "cell_type": "markdown",
   "metadata": {},
   "source": [
    "# when use 40000 data, it takes about 15 minutes each to compute silhouette score"
   ]
  },
  {
   "cell_type": "code",
   "execution_count": 30,
   "metadata": {
    "collapsed": false
   },
   "outputs": [
    {
     "name": "stdout",
     "output_type": "stream",
     "text": [
      "numer of clustering is 2 : silhouette score is 0.897200394856\n",
      "elapsed time 1032.07\n",
      "numer of clustering is 3 : silhouette score is 0.855450632839\n",
      "elapsed time 995.72\n",
      "numer of clustering is 4 : silhouette score is 0.834009557221\n",
      "elapsed time 950.14\n",
      "numer of clustering is 5 : silhouette score is 0.764937528157\n",
      "elapsed time 947.58\n",
      "numer of clustering is 6 : silhouette score is 0.701636053868\n",
      "elapsed time 951.73\n"
     ]
    }
   ],
   "source": [
    "from sklearn.cluster import KMeans\n",
    "from sklearn.metrics import silhouette_score\n",
    "import time\n",
    "\n",
    "for n in range(2,7):\n",
    "    startT = time.time()\n",
    "\n",
    "    clusterer = KMeans(init = 'k-means++', n_clusters=n, n_init=10, max_iter = 500, \n",
    "                       random_state= 200)\n",
    "    clusterer.fit(reduced5)\n",
    "\n",
    "    # TODO: Predict the cluster for each data point\n",
    "    # preds = clusterer.predict(reduced5)  # shouldn't use .predict, use fit_predict\n",
    "    preds = clusterer.fit_predict(reduced5)  # preds = clusterer.labels_ \n",
    "\n",
    "    # TODO: Find the cluster centers\n",
    "    #centers = clusterer.cluster_centers_\n",
    "\n",
    "    # TODO: Predict the cluster for each transformed sample data point\n",
    "    # sample_preds = clusterer.predict(pca_samples)\n",
    "\n",
    "    # TODO: Calculate the mean silhouette coefficient for the number of clusters chosen\n",
    "\n",
    "\n",
    "    score = silhouette_score(reduced5, preds,sample_size=40000)\n",
    "    endT = time.time()\n",
    "    print 'numer of clustering is',n,': silhouette score is',score\n",
    "    print \"elapsed time %.2f\" % (endT-startT)"
   ]
  },
  {
   "cell_type": "markdown",
   "metadata": {},
   "source": [
    "## session crashes when run the script below\n",
    "#### with 40000, it worked."
   ]
  },
  {
   "cell_type": "code",
   "execution_count": 46,
   "metadata": {
    "collapsed": false
   },
   "outputs": [
    {
     "name": "stdout",
     "output_type": "stream",
     "text": [
      "elapsed time 1871.20\n"
     ]
    }
   ],
   "source": [
    "import time\n",
    "startT = time.time()\n",
    "score = silhouette_score(reduced5[0:40000], clusters_labels[0:40000])\n",
    "endT = time.time()\n",
    "print \"elapsed time %.2f\" % (endT-startT)"
   ]
  },
  {
   "cell_type": "markdown",
   "metadata": {},
   "source": [
    "## use silhouette score with `sample_size` parameter"
   ]
  },
  {
   "cell_type": "code",
   "execution_count": 47,
   "metadata": {
    "collapsed": false
   },
   "outputs": [
    {
     "name": "stdout",
     "output_type": "stream",
     "text": [
      "elapsed time 1662.03\n"
     ]
    }
   ],
   "source": [
    "import time\n",
    "startT = time.time()\n",
    "score = silhouette_score(reduced5, clusters_labels, sample_size=40000)\n",
    "endT = time.time()\n",
    "print \"elapsed time %.2f\" % (endT-startT)"
   ]
  },
  {
   "cell_type": "code",
   "execution_count": 48,
   "metadata": {
    "collapsed": false
   },
   "outputs": [
    {
     "data": {
      "text/plain": [
       "0.85018350208723092"
      ]
     },
     "execution_count": 48,
     "metadata": {},
     "output_type": "execute_result"
    }
   ],
   "source": [
    "score"
   ]
  },
  {
   "cell_type": "code",
   "execution_count": 42,
   "metadata": {
    "collapsed": false
   },
   "outputs": [
    {
     "name": "stdout",
     "output_type": "stream",
     "text": [
      "elapsed time 11.14\n"
     ]
    }
   ],
   "source": [
    "import time\n",
    "startT = time.time()\n",
    "score = silhouette_score(reduced3[0:10000], clusters_labels3[0:10000])\n",
    "endT = time.time()\n",
    "print \"elapsed time %.2f\" % (endT-startT)"
   ]
  },
  {
   "cell_type": "code",
   "execution_count": 43,
   "metadata": {
    "collapsed": false
   },
   "outputs": [
    {
     "name": "stdout",
     "output_type": "stream",
     "text": [
      "elapsed time 43.10\n"
     ]
    }
   ],
   "source": [
    "import time\n",
    "startT = time.time()\n",
    "score = silhouette_score(reduced3[0:20000], clusters_labels3[0:20000])\n",
    "endT = time.time()\n",
    "print \"elapsed time %.2f\" % (endT-startT)"
   ]
  },
  {
   "cell_type": "code",
   "execution_count": 46,
   "metadata": {
    "collapsed": false
   },
   "outputs": [
    {
     "name": "stdout",
     "output_type": "stream",
     "text": [
      "elapsed time 99.80\n"
     ]
    }
   ],
   "source": [
    "import time\n",
    "startT = time.time()\n",
    "score = silhouette_score(reduced3[0:30000], clusters_labels3[0:30000])\n",
    "endT = time.time()\n",
    "print \"elapsed time %.2f\" % (endT-startT)"
   ]
  },
  {
   "cell_type": "code",
   "execution_count": null,
   "metadata": {
    "collapsed": false
   },
   "outputs": [],
   "source": [
    "clusters.cluster_centers_"
   ]
  },
  {
   "cell_type": "code",
   "execution_count": null,
   "metadata": {
    "collapsed": true
   },
   "outputs": [],
   "source": [
    "cl_labels = clusters.labels_  # labeling cluster number for ALL entry (97423 active entry)"
   ]
  },
  {
   "cell_type": "markdown",
   "metadata": {},
   "source": [
    "--------"
   ]
  },
  {
   "cell_type": "markdown",
   "metadata": {},
   "source": [
    "--------"
   ]
  },
  {
   "cell_type": "markdown",
   "metadata": {},
   "source": [
    "--------"
   ]
  },
  {
   "cell_type": "markdown",
   "metadata": {},
   "source": [
    "## Here to add Silhouette coefficient analysis for n=3 case"
   ]
  },
  {
   "cell_type": "markdown",
   "metadata": {},
   "source": [
    "--------"
   ]
  },
  {
   "cell_type": "markdown",
   "metadata": {},
   "source": [
    "--------"
   ]
  },
  {
   "cell_type": "code",
   "execution_count": null,
   "metadata": {
    "collapsed": false
   },
   "outputs": [],
   "source": [
    "dfa['cluster'] = cl_labels"
   ]
  },
  {
   "cell_type": "code",
   "execution_count": null,
   "metadata": {
    "collapsed": false
   },
   "outputs": [],
   "source": [
    "dfa.head()"
   ]
  },
  {
   "cell_type": "markdown",
   "metadata": {},
   "source": [
    "# 8/12 update 여기까지 -------------"
   ]
  },
  {
   "cell_type": "markdown",
   "metadata": {},
   "source": [
    "# 9/8 update 여기까지 -------------"
   ]
  },
  {
   "cell_type": "markdown",
   "metadata": {},
   "source": [
    "## 3-3. Data Labeling with group numbers"
   ]
  },
  {
   "cell_type": "markdown",
   "metadata": {},
   "source": [
    "* Merge the labeled data for 'active sellers' to the original data frame"
   ]
  },
  {
   "cell_type": "code",
   "execution_count": null,
   "metadata": {
    "collapsed": false
   },
   "outputs": [],
   "source": [
    "df_clustered = pd.merge(df, df_active[['id','cluster']],on='id',how='left')"
   ]
  },
  {
   "cell_type": "markdown",
   "metadata": {},
   "source": [
    "* Add 3 to the 'new seller' group"
   ]
  },
  {
   "cell_type": "code",
   "execution_count": null,
   "metadata": {
    "collapsed": false
   },
   "outputs": [],
   "source": [
    "df_clusteredAll = df_clustered.fillna(3)"
   ]
  },
  {
   "cell_type": "markdown",
   "metadata": {},
   "source": [
    "### Labeling based on average listings per each group"
   ]
  },
  {
   "cell_type": "code",
   "execution_count": null,
   "metadata": {
    "collapsed": false
   },
   "outputs": [],
   "source": [
    "group_listing = df_clusteredAll['listing'].groupby(df_clusteredAll['cluster'])\n",
    "group_listing.mean()"
   ]
  },
  {
   "cell_type": "markdown",
   "metadata": {},
   "source": [
    "### As shown above, the average listings per each labeled group were computed. It is now possible to determine which group belongs to which predefined seller groups."
   ]
  },
  {
   "cell_type": "markdown",
   "metadata": {},
   "source": [
    "\n",
    "* Group 0: casual seller (avg 8.1 listings)\n",
    "* Group 1: business seller (avg 89.6 listings)\n",
    "* Group 2: top seller (avg 498.8 listings)\n",
    "* Group 3: new seller (none listed)"
   ]
  },
  {
   "cell_type": "markdown",
   "metadata": {},
   "source": [
    "## 3-4. Export to csv file"
   ]
  },
  {
   "cell_type": "code",
   "execution_count": null,
   "metadata": {
    "collapsed": false
   },
   "outputs": [],
   "source": [
    "df_clusteredAll.to_csv('All_data_clustered.csv')\n",
    "df_clusteredAll[df_clusteredAll['cluster']==0].to_csv('data_casual_seller.csv')\n",
    "df_clusteredAll[df_clusteredAll['cluster']==1].to_csv('data_business_seller.csv')\n",
    "df_clusteredAll[df_clusteredAll['cluster']==2].to_csv('data_top_seller.csv')\n",
    "df_clusteredAll[df_clusteredAll['cluster']==3].to_csv('data_new_seller.csv')\n"
   ]
  },
  {
   "cell_type": "markdown",
   "metadata": {},
   "source": [
    "# 4. Classification model using Decision Tree"
   ]
  },
  {
   "cell_type": "markdown",
   "metadata": {
    "collapsed": true
   },
   "source": [
    "* Now the clustering the seller is done. \n",
    "* Based on the seller segregation done in the previous step, we may be able to predict which group a unknown seller belongs when features of the seller are known.\n",
    "* I used Decision Tree classifier to train the model."
   ]
  },
  {
   "cell_type": "markdown",
   "metadata": {},
   "source": [
    "## 4-1. splitting data into train/test sets"
   ]
  },
  {
   "cell_type": "code",
   "execution_count": null,
   "metadata": {
    "collapsed": true
   },
   "outputs": [],
   "source": [
    "# separate the data into 'Features' and 'Labels' (or 'groups')\n",
    "# And then, split them into 70-30 ratio for training and testing datasets\n",
    "\n",
    "model_features = df_clusteredAll[['listing','listing_gmv','sale','buyers','gmv']]\n",
    "model_groups = df_clusteredAll['cluster']\n",
    "\n",
    "from sklearn.cross_validation import train_test_split\n",
    "def shuffle_split_data(X,y):\n",
    "    X_train, X_test, y_train, y_test = train_test_split(X,y,test_size = 0.3, random_state=42)\n",
    "    \n",
    "    return X_train, y_train, X_test, y_test\n",
    "\n",
    "X_train, y_train, X_test, y_test = shuffle_split_data(model_features, model_groups)"
   ]
  },
  {
   "cell_type": "markdown",
   "metadata": {},
   "source": [
    "## 4-2. Define performance metrics"
   ]
  },
  {
   "cell_type": "code",
   "execution_count": null,
   "metadata": {
    "collapsed": true
   },
   "outputs": [],
   "source": [
    "from sklearn.metrics import mean_squared_error\n",
    "def performance_metric(y_true, y_predict):\n",
    "    error = mean_squared_error(y_true, y_predict)\n",
    "    return error"
   ]
  },
  {
   "cell_type": "markdown",
   "metadata": {},
   "source": [
    "## 4-3. Train the model"
   ]
  },
  {
   "cell_type": "markdown",
   "metadata": {},
   "source": [
    "#### Here I present two different decision tree models. I should have chosen the better model, but it is notable to present both of them because this might cast some question in quality of the model fit.\n",
    "\n",
    "\n",
    "#### Initially, the model was calibrated only with 'min_samples_split' variable (model 1), which defines the minimum number of samples required to split an internal node, but later also tweaked 'max_depth' (maximum depth of the tree) (model 2).\n",
    "\n",
    "### Findings\n",
    "#### I used scikit-learns cross validation and grid search tools and tested various numbers for these parameters and found out that when min_samples_split is the only variable, min_samples_split = 100 would be the optimal parameter for the model\n",
    "#### However, when 'max_depth' was also used in grid search function, then the optimal min_sample_split is 10. As seen in the figure below, this value of 10 would most likely suffer from the high bias problem (underfitting).\n",
    "#### Based on the findings here, it seems 'max_depth' is more sensitive in fitting the decision tree then 'min_sample_split' variable."
   ]
  },
  {
   "cell_type": "code",
   "execution_count": null,
   "metadata": {
    "collapsed": false
   },
   "outputs": [],
   "source": [
    "from sklearn.metrics import make_scorer\n",
    "from sklearn.metrics import mean_squared_error\n",
    "from sklearn.grid_search import GridSearchCV\n",
    "from sklearn.tree import DecisionTreeClassifier\n",
    "\n",
    "# first model with only 'min_samples_split' calibrated\n",
    "\n",
    "def fit_model(X,y):\n",
    "    # desicion tree classifier object\n",
    "    clf = DecisionTreeClassifier()\n",
    "    \n",
    "    # parameters to use for tuning\n",
    "    parameters ={'min_samples_split':(10, 50, 100, 5000)}\n",
    "    \n",
    "    # some scoring function\n",
    "    scoring_function = make_scorer(mean_squared_error, greater_is_better = False)\n",
    "    \n",
    "    # grid search\n",
    "    classi = GridSearchCV(clf, param_grid = parameters, scoring=scoring_function)\n",
    "    classi.fit(X,y)\n",
    "    \n",
    "    return classi.best_estimator_\n",
    "\n",
    "# -----------------------------------------------------------------------------\n",
    "# second model with 'min_samples_split' and 'max_depth' calibrated\n",
    "\n",
    "def fit_model2(X,y):\n",
    "    # desicion tree classifier object\n",
    "    clf = DecisionTreeClassifier()\n",
    "    \n",
    "    # parameters to use for tuning\n",
    "    parameters ={'min_samples_split':(10, 50, 100, 5000),'max_depth':(1,3,5,7,9)}\n",
    "    \n",
    "    # some scoring function\n",
    "    scoring_function = make_scorer(mean_squared_error, greater_is_better = False)\n",
    "    \n",
    "    # grid search\n",
    "    classi2 = GridSearchCV(clf, param_grid = parameters, scoring=scoring_function)\n",
    "    classi2.fit(X,y)\n",
    "    \n",
    "    return classi2.best_estimator_\n",
    "\n",
    "classi = fit_model(model_features, model_groups)\n",
    "classi2 = fit_model2(model_features, model_groups)"
   ]
  },
  {
   "cell_type": "markdown",
   "metadata": {},
   "source": [
    "## 4-4. Learning Curve"
   ]
  },
  {
   "cell_type": "code",
   "execution_count": null,
   "metadata": {
    "collapsed": true
   },
   "outputs": [],
   "source": [
    "def learning_curves(X_train, y_train, X_test, y_test):\n",
    "    \n",
    "    # Create the figure window\n",
    "    fig = plt.figure(figsize=(10,8))\n",
    "\n",
    "    # We will vary the training set size so that we have 50 different sizes\n",
    "    sizes = np.rint(np.linspace(1, len(X_train), 100)).astype(int)\n",
    "    train_err = np.zeros(len(sizes))\n",
    "    test_err = np.zeros(len(sizes))\n",
    "\n",
    "    # Create four different models based on max_depth\n",
    "    # for k, depth in enumerate([1,3,6,10]):\n",
    "    for k, split in enumerate([10, 50, 100, 5000]):\n",
    "        \n",
    "        for i, s in enumerate(sizes):\n",
    "            \n",
    "            # Setup a decision tree regressor so that it learns a tree with max_depth = depth\n",
    "            classifier = DecisionTreeClassifier(min_samples_split= split)\n",
    "            \n",
    "            # Fit the learner to the training data\n",
    "            classifier.fit(X_train[:s], y_train[:s])\n",
    "\n",
    "            # Find the performance on the training set\n",
    "            train_err[i] = performance_metric(y_train[:s], classifier.predict(X_train[:s]))\n",
    "            \n",
    "            # Find the performance on the testing set\n",
    "            test_err[i] = performance_metric(y_test, classifier.predict(X_test))\n",
    "            \n",
    "\n",
    "    \n",
    "        ax = fig.add_subplot(2, 2, k+1)\n",
    "        ax.plot(sizes, test_err, lw = 2, label = 'Testing Error')\n",
    "        ax.plot(sizes, train_err, lw = 2, label = 'Training Error')\n",
    "        ax.legend()\n",
    "        ax.set_title('Minimum split samples = %s'%(split))\n",
    "        ax.set_xlabel('Number of Data Points in Training Set')\n",
    "        ax.set_ylabel('Total Error')\n",
    "        ax.set_xlim([0, len(X_train)])\n",
    "        ax.set_ylim([0, 0.01])\n",
    "        \n",
    "    # Visual aesthetics\n",
    "    fig.suptitle('Decision Tree Classifier Learning Performances', fontsize=18, y=1.03)\n",
    "    fig.tight_layout()\n",
    "    fig.show()"
   ]
  },
  {
   "cell_type": "markdown",
   "metadata": {},
   "source": [
    "### Learning curve with minimum split samples = 100 looks better than other three."
   ]
  },
  {
   "cell_type": "code",
   "execution_count": null,
   "metadata": {
    "collapsed": false
   },
   "outputs": [],
   "source": [
    "learning_curves(X_train,y_train,X_test,y_test)"
   ]
  },
  {
   "cell_type": "code",
   "execution_count": null,
   "metadata": {
    "collapsed": true
   },
   "outputs": [],
   "source": [
    "def learning_curves(X_train, y_train, X_test, y_test):\n",
    "    \n",
    "    \n",
    "    # Create the figure window\n",
    "    fig = plt.figure(figsize=(10,8))\n",
    "\n",
    "    # We will vary the training set size so that we have 50 different sizes\n",
    "    sizes = np.rint(np.linspace(1, len(X_train), 100)).astype(int)\n",
    "    train_err = np.zeros(len(sizes))\n",
    "    test_err = np.zeros(len(sizes))\n",
    "\n",
    "    # Create four different models based on max_depth\n",
    "    for k, depth in enumerate([1,3,5,9]):\n",
    "    \n",
    "        \n",
    "        for i, s in enumerate(sizes):\n",
    "            \n",
    "            # Setup a decision tree regressor so that it learns a tree with max_depth = depth\n",
    "            classifier = DecisionTreeClassifier(max_depth = depth)\n",
    "            \n",
    "            # Fit the learner to the training data\n",
    "            classifier.fit(X_train[:s], y_train[:s])\n",
    "\n",
    "            # Find the performance on the training set\n",
    "            train_err[i] = performance_metric(y_train[:s], classifier.predict(X_train[:s]))\n",
    "            \n",
    "            # Find the performance on the testing set\n",
    "            test_err[i] = performance_metric(y_test, classifier.predict(X_test))\n",
    "            \n",
    "\n",
    "    \n",
    "        ax = fig.add_subplot(2, 2, k+1)\n",
    "        ax.plot(sizes, test_err, lw = 2, label = 'Testing Error')\n",
    "        ax.plot(sizes, train_err, lw = 2, label = 'Training Error')\n",
    "        ax.legend()\n",
    "        ax.set_title('max_depth = %s'%(depth))\n",
    "        ax.set_xlabel('Number of Data Points in Training Set')\n",
    "        ax.set_ylabel('Total Error')\n",
    "        ax.set_xlim([0, len(X_train)])\n",
    "        #ax.set_xlim([0, 200000])\n",
    "        ax.set_ylim([0, 0.01])\n",
    "    \n",
    "    # Visual aesthetics\n",
    "    fig.suptitle('Decision Tree Classifier Learning Performances', fontsize=18, y=1.03)\n",
    "    fig.tight_layout()\n",
    "    fig.show()"
   ]
  },
  {
   "cell_type": "markdown",
   "metadata": {},
   "source": [
    "### Learning curve with Maximum depth = 9 looks better than other three."
   ]
  },
  {
   "cell_type": "code",
   "execution_count": null,
   "metadata": {
    "collapsed": false
   },
   "outputs": [],
   "source": [
    "learning_curves(X_train,y_train,X_test,y_test)"
   ]
  },
  {
   "cell_type": "code",
   "execution_count": null,
   "metadata": {
    "collapsed": false
   },
   "outputs": [],
   "source": [
    "classi.get_params()\n"
   ]
  },
  {
   "cell_type": "code",
   "execution_count": null,
   "metadata": {
    "collapsed": false
   },
   "outputs": [],
   "source": [
    "classi2.get_params()"
   ]
  },
  {
   "cell_type": "markdown",
   "metadata": {},
   "source": [
    "# 5. Model prediction\n",
    "\n",
    "## 5-1. Testing model prediction"
   ]
  },
  {
   "cell_type": "markdown",
   "metadata": {},
   "source": [
    "* See prediction tests below; the last entry is segregated and labeled as group 2 (top seller) in the clustering analysis.\n",
    "* But, when I tested this seller using the first decision tree model, it was predicted to be in the group 1 (Business seller)!\n",
    "* Please see the next section for quantitative evaluation of the classifier."
   ]
  },
  {
   "cell_type": "code",
   "execution_count": null,
   "metadata": {
    "collapsed": false
   },
   "outputs": [],
   "source": [
    "# features: ['listing','listing_gmv','sale','buyers','gmv']\n",
    "new_seller = [[0,0,0,0,0]]   # new seller\n",
    "new_seller = [[100,1000,10,10,100]] # casual\n",
    "new_seller = [[100,1000,100,100,1000]] # business\n",
    "new_seller = [[249,8466,174,155,5553]] # top seller\n",
    "new_seller = [[66,19674,2,2,33]] # top seller or business?\n",
    "\n",
    "\n",
    "#new_seller = [[0,0,0,0,0]]\n",
    "new_prediction = classi.predict(new_seller)\n",
    "new_prediction2 = classi2.predict(new_seller)\n",
    "print new_prediction, new_prediction2"
   ]
  },
  {
   "cell_type": "markdown",
   "metadata": {},
   "source": [
    "## 5-2. Quantitative evaluation of the model"
   ]
  },
  {
   "cell_type": "markdown",
   "metadata": {},
   "source": [
    "* It is shown that the second classifier model (classi2) presents the better F1 score for groups 2 and 3."
   ]
  },
  {
   "cell_type": "code",
   "execution_count": null,
   "metadata": {
    "collapsed": false
   },
   "outputs": [],
   "source": [
    "from sklearn.metrics import classification_report\n",
    "\n",
    "model_prediction = classi.predict(model_features)\n",
    "print(classification_report(model_groups,model_prediction))"
   ]
  },
  {
   "cell_type": "code",
   "execution_count": null,
   "metadata": {
    "collapsed": false
   },
   "outputs": [],
   "source": [
    "model_prediction = classi2.predict(model_features)\n",
    "print(classification_report(model_groups,model_prediction))"
   ]
  },
  {
   "cell_type": "markdown",
   "metadata": {
    "collapsed": true
   },
   "source": [
    "# Remarks"
   ]
  },
  {
   "cell_type": "markdown",
   "metadata": {},
   "source": [
    "* It's been a fun project to analyze the seller datasets with limited available information.\n",
    "\n",
    "### My take on this project contains two main parts.\n",
    "\n",
    "#### part 1\n",
    "* With the given information, I have segregated the sellers into four groups.\n",
    "\n",
    "#### part 2\n",
    "* And then assuming this group segregation was correctly done, I trained a decision tree model for prediction on future/unknown sellers.\n",
    "\n",
    "# Future recommendation\n",
    "* Different classifier/different sets of calibration parameters would be beneficial to build a more robust model\n",
    "* Create a scalable user ratings from the existing three distinct ratings (good, neutral, bad)"
   ]
  },
  {
   "cell_type": "code",
   "execution_count": null,
   "metadata": {
    "collapsed": true
   },
   "outputs": [],
   "source": []
  }
 ],
 "metadata": {
  "kernelspec": {
   "display_name": "Python 2",
   "language": "python",
   "name": "python2"
  },
  "language_info": {
   "codemirror_mode": {
    "name": "ipython",
    "version": 2
   },
   "file_extension": ".py",
   "mimetype": "text/x-python",
   "name": "python",
   "nbconvert_exporter": "python",
   "pygments_lexer": "ipython2",
   "version": "2.7.11"
  }
 },
 "nbformat": 4,
 "nbformat_minor": 0
}
