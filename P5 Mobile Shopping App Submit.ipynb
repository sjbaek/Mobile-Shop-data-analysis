{
 "cells": [
  {
   "cell_type": "markdown",
   "metadata": {},
   "source": [
    "### This python notebook complements the report document (Capstone Report by SBaek.docx) and shows data analysis and calculation following the same numeric order of document sections"
   ]
  },
  {
   "cell_type": "code",
   "execution_count": 1,
   "metadata": {
    "collapsed": false
   },
   "outputs": [
    {
     "name": "stderr",
     "output_type": "stream",
     "text": [
      "C:\\Users\\seungjinb\\Anaconda\\lib\\site-packages\\matplotlib\\__init__.py:872: UserWarning: axes.color_cycle is deprecated and replaced with axes.prop_cycle; please use the latter.\n",
      "  warnings.warn(self.msg_depr % (key, alt_key))\n"
     ]
    }
   ],
   "source": [
    "import numpy as np\n",
    "import pandas as pd\n",
    "from pandas import Series, DataFrame\n",
    "import seaborn as sns\n",
    "import renders as rs\n",
    "\n",
    "import matplotlib.pyplot as plt\n",
    "%matplotlib inline"
   ]
  },
  {
   "cell_type": "markdown",
   "metadata": {},
   "source": [
    "# Project roadmap (old)\n",
    "1. Loading data/clean up\n",
    "2. Dimensional Reduction (Principal Component Analysis)\n",
    "3. Clustering Analysis\n",
    "4. Classification model using Decision Tree\n",
    "5. Model prediction for unknown dataset"
   ]
  },
  {
   "cell_type": "markdown",
   "metadata": {},
   "source": [
    "# Project roadmap\n",
    "1. Definition\n",
    "2. Analysis\n",
    "3. Methodology\n",
    "4. Results\n",
    "5. Conclusion"
   ]
  },
  {
   "cell_type": "markdown",
   "metadata": {},
   "source": [
    "----"
   ]
  },
  {
   "cell_type": "markdown",
   "metadata": {},
   "source": [
    "# Section 1. Definition"
   ]
  },
  {
   "cell_type": "markdown",
   "metadata": {},
   "source": [
    "Please see the report document for the project overview and problem statement. "
   ]
  },
  {
   "cell_type": "markdown",
   "metadata": {},
   "source": [
    "# Section 2. Analysis"
   ]
  },
  {
   "cell_type": "markdown",
   "metadata": {},
   "source": [
    "## Data Exploration"
   ]
  },
  {
   "cell_type": "markdown",
   "metadata": {},
   "source": [
    "### 1-1. Import data/data clean up\n",
    "\n",
    "* Among 10 features (except id number), I have decided perform feature selection where all the ratings informations were removed and time_on_site and listing features were combined as 'listing_per_day'\n",
    "* Since some users began to sell on the first day they install the app, 'time_on_site' can be zero when there are number of listings recorded. In these cases, listing/time_on_site will generate 'Inf.' In order to avoid Inf happening, I have added 1 to all entries of 'time_on_site.' "
   ]
  },
  {
   "cell_type": "code",
   "execution_count": 2,
   "metadata": {
    "collapsed": false
   },
   "outputs": [
    {
     "name": "stderr",
     "output_type": "stream",
     "text": [
      "C:\\Users\\seungjinb\\Anaconda\\lib\\site-packages\\ipykernel\\__main__.py:7: SettingWithCopyWarning: \n",
      "A value is trying to be set on a copy of a slice from a DataFrame\n",
      "\n",
      "See the caveats in the documentation: http://pandas.pydata.org/pandas-docs/stable/indexing.html#indexing-view-versus-copy\n"
     ]
    }
   ],
   "source": [
    "input_file = \"data/Customer_activity.csv\"\n",
    "df = pd.read_csv(input_file, header = 0)\n",
    "df2 = df.drop('install_date',axis=1)\n",
    "\n",
    "# Create 'listing per day' data column\n",
    "df2['listing_per_day'] = 0\n",
    "df2['listing_per_day'][df2['time_on_site']>0] = df2['listing'][df2['time_on_site']>0]/(df2['time_on_site'][df2['time_on_site']>0])"
   ]
  },
  {
   "cell_type": "code",
   "execution_count": 3,
   "metadata": {
    "collapsed": false
   },
   "outputs": [
    {
     "data": {
      "text/html": [
       "<div>\n",
       "<table border=\"1\" class=\"dataframe\">\n",
       "  <thead>\n",
       "    <tr style=\"text-align: right;\">\n",
       "      <th></th>\n",
       "      <th>id</th>\n",
       "      <th>time_on_site</th>\n",
       "      <th>positive_rating</th>\n",
       "      <th>neutral_rating</th>\n",
       "      <th>negative_rating</th>\n",
       "      <th>listing</th>\n",
       "      <th>listing_gmv</th>\n",
       "      <th>sale</th>\n",
       "      <th>buyers</th>\n",
       "      <th>gmv</th>\n",
       "      <th>listing_per_day</th>\n",
       "    </tr>\n",
       "  </thead>\n",
       "  <tbody>\n",
       "    <tr>\n",
       "      <th>0</th>\n",
       "      <td>100000126</td>\n",
       "      <td>27</td>\n",
       "      <td>0</td>\n",
       "      <td>0</td>\n",
       "      <td>0</td>\n",
       "      <td>0</td>\n",
       "      <td>0</td>\n",
       "      <td>0</td>\n",
       "      <td>0</td>\n",
       "      <td>0</td>\n",
       "      <td>0.000000</td>\n",
       "    </tr>\n",
       "    <tr>\n",
       "      <th>1</th>\n",
       "      <td>100000329</td>\n",
       "      <td>5</td>\n",
       "      <td>0</td>\n",
       "      <td>0</td>\n",
       "      <td>0</td>\n",
       "      <td>0</td>\n",
       "      <td>0</td>\n",
       "      <td>0</td>\n",
       "      <td>0</td>\n",
       "      <td>0</td>\n",
       "      <td>0.000000</td>\n",
       "    </tr>\n",
       "    <tr>\n",
       "      <th>2</th>\n",
       "      <td>100002348</td>\n",
       "      <td>76</td>\n",
       "      <td>1</td>\n",
       "      <td>0</td>\n",
       "      <td>0</td>\n",
       "      <td>1</td>\n",
       "      <td>10</td>\n",
       "      <td>1</td>\n",
       "      <td>1</td>\n",
       "      <td>10</td>\n",
       "      <td>0.013158</td>\n",
       "    </tr>\n",
       "    <tr>\n",
       "      <th>3</th>\n",
       "      <td>100002548</td>\n",
       "      <td>5</td>\n",
       "      <td>0</td>\n",
       "      <td>0</td>\n",
       "      <td>0</td>\n",
       "      <td>40</td>\n",
       "      <td>357</td>\n",
       "      <td>0</td>\n",
       "      <td>0</td>\n",
       "      <td>0</td>\n",
       "      <td>8.000000</td>\n",
       "    </tr>\n",
       "    <tr>\n",
       "      <th>4</th>\n",
       "      <td>100003707</td>\n",
       "      <td>23</td>\n",
       "      <td>0</td>\n",
       "      <td>0</td>\n",
       "      <td>0</td>\n",
       "      <td>0</td>\n",
       "      <td>0</td>\n",
       "      <td>0</td>\n",
       "      <td>0</td>\n",
       "      <td>0</td>\n",
       "      <td>0.000000</td>\n",
       "    </tr>\n",
       "  </tbody>\n",
       "</table>\n",
       "</div>"
      ],
      "text/plain": [
       "          id  time_on_site  positive_rating  neutral_rating  negative_rating  \\\n",
       "0  100000126            27                0               0                0   \n",
       "1  100000329             5                0               0                0   \n",
       "2  100002348            76                1               0                0   \n",
       "3  100002548             5                0               0                0   \n",
       "4  100003707            23                0               0                0   \n",
       "\n",
       "   listing  listing_gmv  sale  buyers  gmv  listing_per_day  \n",
       "0        0            0     0       0    0         0.000000  \n",
       "1        0            0     0       0    0         0.000000  \n",
       "2        1           10     1       1   10         0.013158  \n",
       "3       40          357     0       0    0         8.000000  \n",
       "4        0            0     0       0    0         0.000000  "
      ]
     },
     "execution_count": 3,
     "metadata": {},
     "output_type": "execute_result"
    }
   ],
   "source": [
    "# see all features\n",
    "df2.head()"
   ]
  },
  {
   "cell_type": "markdown",
   "metadata": {},
   "source": [
    "### 1-2. Separate users with no selling item\n",
    "* This users are assumed to be 'New seller' without much analysis or they could be just new users or simply be buyers.\n",
    "* Only a small fraction of total users have items on sale"
   ]
  },
  {
   "cell_type": "code",
   "execution_count": 4,
   "metadata": {
    "collapsed": false
   },
   "outputs": [
    {
     "name": "stdout",
     "output_type": "stream",
     "text": [
      "* Only 8.07% of the listed users has items on sale!\n",
      "* => 97423 users out of total 1207774 users have sold at least one item using the app.\n"
     ]
    }
   ],
   "source": [
    "dfa = df2[df2['listing']>0]  # data active\n",
    "dfi = df2[df2['listing']==0] # data inactive\n",
    "\n",
    "print \"* Only %.2f%% of the listed users has items on sale!\" % (float(len(dfa))/float(len(df2))*100)\n",
    "print \"* => %.0f users out of total %.0f users have sold at least one item using the app.\" \\\n",
    "% (float(len(dfa)), float(len(df2)))"
   ]
  },
  {
   "cell_type": "code",
   "execution_count": 5,
   "metadata": {
    "collapsed": false
   },
   "outputs": [
    {
     "data": {
      "text/plain": [
       "<matplotlib.axes._subplots.AxesSubplot at 0x1836f710>"
      ]
     },
     "execution_count": 5,
     "metadata": {},
     "output_type": "execute_result"
    },
    {
     "data": {
      "image/png": "[encoded data removed]",
      "text/plain": [
       "<matplotlib.figure.Figure at 0x183819e8>"
      ]
     },
     "metadata": {},
     "output_type": "display_data"
    }
   ],
   "source": [
    "df2['listing'].hist(bins = 100)\n",
    "\n",
    "# This is useless!!"
   ]
  },
  {
   "cell_type": "markdown",
   "metadata": {},
   "source": [
    "### 1-3. Basic statistics of the active users (8.07% of total sellers)\n",
    "* distributions of the sellers by using 'sale' or 'listing'\n",
    "\n",
    "* use seaborn for faceted histograms"
   ]
  },
  {
   "cell_type": "code",
   "execution_count": 6,
   "metadata": {
    "collapsed": false
   },
   "outputs": [
    {
     "data": {
      "text/html": [
       "<div>\n",
       "<table border=\"1\" class=\"dataframe\">\n",
       "  <thead>\n",
       "    <tr style=\"text-align: right;\">\n",
       "      <th></th>\n",
       "      <th>id</th>\n",
       "      <th>time_on_site</th>\n",
       "      <th>positive_rating</th>\n",
       "      <th>neutral_rating</th>\n",
       "      <th>negative_rating</th>\n",
       "      <th>listing</th>\n",
       "      <th>listing_gmv</th>\n",
       "      <th>sale</th>\n",
       "      <th>buyers</th>\n",
       "      <th>gmv</th>\n",
       "      <th>listing_per_day</th>\n",
       "    </tr>\n",
       "  </thead>\n",
       "  <tbody>\n",
       "    <tr>\n",
       "      <th>2</th>\n",
       "      <td>100002348</td>\n",
       "      <td>76</td>\n",
       "      <td>1</td>\n",
       "      <td>0</td>\n",
       "      <td>0</td>\n",
       "      <td>1</td>\n",
       "      <td>10</td>\n",
       "      <td>1</td>\n",
       "      <td>1</td>\n",
       "      <td>10</td>\n",
       "      <td>0.013158</td>\n",
       "    </tr>\n",
       "    <tr>\n",
       "      <th>3</th>\n",
       "      <td>100002548</td>\n",
       "      <td>5</td>\n",
       "      <td>0</td>\n",
       "      <td>0</td>\n",
       "      <td>0</td>\n",
       "      <td>40</td>\n",
       "      <td>357</td>\n",
       "      <td>0</td>\n",
       "      <td>0</td>\n",
       "      <td>0</td>\n",
       "      <td>8.000000</td>\n",
       "    </tr>\n",
       "    <tr>\n",
       "      <th>25</th>\n",
       "      <td>100022372</td>\n",
       "      <td>26</td>\n",
       "      <td>0</td>\n",
       "      <td>0</td>\n",
       "      <td>0</td>\n",
       "      <td>9</td>\n",
       "      <td>250</td>\n",
       "      <td>0</td>\n",
       "      <td>0</td>\n",
       "      <td>0</td>\n",
       "      <td>0.346154</td>\n",
       "    </tr>\n",
       "    <tr>\n",
       "      <th>27</th>\n",
       "      <td>100023493</td>\n",
       "      <td>2</td>\n",
       "      <td>0</td>\n",
       "      <td>0</td>\n",
       "      <td>0</td>\n",
       "      <td>2</td>\n",
       "      <td>50</td>\n",
       "      <td>0</td>\n",
       "      <td>0</td>\n",
       "      <td>0</td>\n",
       "      <td>1.000000</td>\n",
       "    </tr>\n",
       "    <tr>\n",
       "      <th>42</th>\n",
       "      <td>100033232</td>\n",
       "      <td>57</td>\n",
       "      <td>0</td>\n",
       "      <td>0</td>\n",
       "      <td>0</td>\n",
       "      <td>9</td>\n",
       "      <td>143</td>\n",
       "      <td>1</td>\n",
       "      <td>1</td>\n",
       "      <td>25</td>\n",
       "      <td>0.157895</td>\n",
       "    </tr>\n",
       "  </tbody>\n",
       "</table>\n",
       "</div>"
      ],
      "text/plain": [
       "           id  time_on_site  positive_rating  neutral_rating  negative_rating  \\\n",
       "2   100002348            76                1               0                0   \n",
       "3   100002548             5                0               0                0   \n",
       "25  100022372            26                0               0                0   \n",
       "27  100023493             2                0               0                0   \n",
       "42  100033232            57                0               0                0   \n",
       "\n",
       "    listing  listing_gmv  sale  buyers  gmv  listing_per_day  \n",
       "2         1           10     1       1   10         0.013158  \n",
       "3        40          357     0       0    0         8.000000  \n",
       "25        9          250     0       0    0         0.346154  \n",
       "27        2           50     0       0    0         1.000000  \n",
       "42        9          143     1       1   25         0.157895  "
      ]
     },
     "execution_count": 6,
     "metadata": {},
     "output_type": "execute_result"
    }
   ],
   "source": [
    "# dfa: active user data\n",
    "dfa.head()"
   ]
  },
  {
   "cell_type": "code",
   "execution_count": 7,
   "metadata": {
    "collapsed": false
   },
   "outputs": [
    {
     "data": {
      "text/html": [
       "<div>\n",
       "<table border=\"1\" class=\"dataframe\">\n",
       "  <thead>\n",
       "    <tr style=\"text-align: right;\">\n",
       "      <th></th>\n",
       "      <th>time_on_site</th>\n",
       "      <th>listing</th>\n",
       "    </tr>\n",
       "  </thead>\n",
       "  <tbody>\n",
       "    <tr>\n",
       "      <th>2</th>\n",
       "      <td>76</td>\n",
       "      <td>1</td>\n",
       "    </tr>\n",
       "    <tr>\n",
       "      <th>3</th>\n",
       "      <td>5</td>\n",
       "      <td>40</td>\n",
       "    </tr>\n",
       "    <tr>\n",
       "      <th>25</th>\n",
       "      <td>26</td>\n",
       "      <td>9</td>\n",
       "    </tr>\n",
       "    <tr>\n",
       "      <th>27</th>\n",
       "      <td>2</td>\n",
       "      <td>2</td>\n",
       "    </tr>\n",
       "    <tr>\n",
       "      <th>42</th>\n",
       "      <td>57</td>\n",
       "      <td>9</td>\n",
       "    </tr>\n",
       "  </tbody>\n",
       "</table>\n",
       "</div>"
      ],
      "text/plain": [
       "    time_on_site  listing\n",
       "2             76        1\n",
       "3              5       40\n",
       "25            26        9\n",
       "27             2        2\n",
       "42            57        9"
      ]
     },
     "execution_count": 7,
     "metadata": {},
     "output_type": "execute_result"
    }
   ],
   "source": [
    "dfa[['time_on_site','listing']].head()"
   ]
  },
  {
   "cell_type": "code",
   "execution_count": 8,
   "metadata": {
    "collapsed": false
   },
   "outputs": [],
   "source": [
    "## dff : data frame final - datasets after feature selection\n",
    "\n",
    "dff = dfa.iloc[:,[2,3,4,6,7,8,9,10]]"
   ]
  },
  {
   "cell_type": "code",
   "execution_count": 9,
   "metadata": {
    "collapsed": false
   },
   "outputs": [
    {
     "data": {
      "text/plain": [
       "count    97423.000000\n",
       "mean         0.468860\n",
       "std          1.504483\n",
       "min          0.000000\n",
       "25%          0.037037\n",
       "50%          0.111111\n",
       "75%          0.375000\n",
       "max         89.111111\n",
       "Name: listing_per_day, dtype: float64"
      ]
     },
     "execution_count": 9,
     "metadata": {},
     "output_type": "execute_result"
    }
   ],
   "source": [
    "dff['listing_per_day'].describe()"
   ]
  },
  {
   "cell_type": "markdown",
   "metadata": {},
   "source": [
    "## sort sellers with ratings higher, lower etc."
   ]
  },
  {
   "cell_type": "markdown",
   "metadata": {},
   "source": [
    "### compare revenue from users with ratings (pos, neu, neg) and no ratings"
   ]
  },
  {
   "cell_type": "markdown",
   "metadata": {},
   "source": [
    "### * users with non-zero rating"
   ]
  },
  {
   "cell_type": "code",
   "execution_count": 10,
   "metadata": {
    "collapsed": false
   },
   "outputs": [],
   "source": [
    "df_rating= dff[(dff[['positive_rating','neutral_rating','negative_rating']]>0).any(1)]"
   ]
  },
  {
   "cell_type": "markdown",
   "metadata": {},
   "source": [
    "### * users with non-zero rating"
   ]
  },
  {
   "cell_type": "code",
   "execution_count": 11,
   "metadata": {
    "collapsed": false
   },
   "outputs": [],
   "source": [
    "df_NOrating= dff[(dff[['positive_rating','neutral_rating','negative_rating']]==0).all(1)]"
   ]
  },
  {
   "cell_type": "markdown",
   "metadata": {},
   "source": [
    "##### sanity check for users with/without ratings"
   ]
  },
  {
   "cell_type": "code",
   "execution_count": 12,
   "metadata": {
    "collapsed": false
   },
   "outputs": [
    {
     "data": {
      "text/plain": [
       "97423"
      ]
     },
     "execution_count": 12,
     "metadata": {},
     "output_type": "execute_result"
    }
   ],
   "source": [
    "len(df_rating)+len(df_NOrating)"
   ]
  },
  {
   "cell_type": "markdown",
   "metadata": {},
   "source": [
    "-------------------"
   ]
  },
  {
   "cell_type": "code",
   "execution_count": 13,
   "metadata": {
    "collapsed": false
   },
   "outputs": [],
   "source": [
    "dtemp = dfa.listing\n",
    "dtemp2 = dfa.listing[dfa.listing < 100]"
   ]
  },
  {
   "cell_type": "code",
   "execution_count": 14,
   "metadata": {
    "collapsed": false
   },
   "outputs": [
    {
     "data": {
      "text/plain": [
       "<matplotlib.axes._subplots.AxesSubplot at 0x23fd4e10>"
      ]
     },
     "execution_count": 14,
     "metadata": {},
     "output_type": "execute_result"
    },
    {
     "data": {
      "image/png": "[encoded data removed]",
      "text/plain": [
       "<matplotlib.figure.Figure at 0x26744dd8>"
      ]
     },
     "metadata": {},
     "output_type": "display_data"
    }
   ],
   "source": [
    "# listing 이 100 보다 작은 유저들의 히스토그램\n",
    "\n",
    "#n, bins, patches = plt.hist(df_active.listing[df_active.listing<100],100)\n",
    "#plt.hist()\n",
    "#n, bins, patches = plt.hist(qq,100)\n",
    "dfa['listing'][dfa['listing']<100].hist(bins = 100)"
   ]
  },
  {
   "cell_type": "markdown",
   "metadata": {},
   "source": [
    "### Most of the sellers are the ones with number of selling items less than 20 or maybe 5. This is very skewed data. The revenue distribution, however, could be different from the number of listing."
   ]
  },
  {
   "cell_type": "code",
   "execution_count": 15,
   "metadata": {
    "collapsed": false
   },
   "outputs": [
    {
     "name": "stderr",
     "output_type": "stream",
     "text": [
      "C:\\Users\\seungjinb\\Anaconda\\lib\\site-packages\\matplotlib\\__init__.py:892: UserWarning: axes.color_cycle is deprecated and replaced with axes.prop_cycle; please use the latter.\n",
      "  warnings.warn(self.msg_depr % (key, alt_key))\n"
     ]
    },
    {
     "data": {
      "image/png": "[encoded data removed]",
      "text/plain": [
       "<matplotlib.figure.Figure at 0x2646bc88>"
      ]
     },
     "metadata": {},
     "output_type": "display_data"
    }
   ],
   "source": [
    "g = sns.PairGrid(dfa[['time_on_site','listing','listing_gmv','gmv']])\n",
    "g.map_diag(plt.hist)\n",
    "g.map_offdiag(plt.scatter);"
   ]
  },
  {
   "cell_type": "code",
   "execution_count": 16,
   "metadata": {
    "collapsed": false
   },
   "outputs": [
    {
     "data": {
      "text/plain": [
       "<seaborn.axisgrid.JointGrid at 0x273c2080>"
      ]
     },
     "execution_count": 16,
     "metadata": {},
     "output_type": "execute_result"
    },
    {
     "data": {
      "image/png": "[encoded data removed]",
      "text/plain": [
       "<matplotlib.figure.Figure at 0x23fc4160>"
      ]
     },
     "metadata": {},
     "output_type": "display_data"
    }
   ],
   "source": [
    "sns.jointplot(dff.gmv, dff.listing_per_day)"
   ]
  },
  {
   "cell_type": "markdown",
   "metadata": {},
   "source": [
    "### Maybe apply log function to values and plot???"
   ]
  },
  {
   "cell_type": "markdown",
   "metadata": {},
   "source": [
    "### 1-4. Further data clean-up\n",
    "* Done in previous section: 'dff' is the final dataset to process"
   ]
  },
  {
   "cell_type": "markdown",
   "metadata": {},
   "source": [
    "* Plot 'listing' vs 'sale'"
   ]
  },
  {
   "cell_type": "code",
   "execution_count": 17,
   "metadata": {
    "collapsed": false
   },
   "outputs": [
    {
     "data": {
      "text/plain": [
       "<matplotlib.text.Text at 0x22e14160>"
      ]
     },
     "execution_count": 17,
     "metadata": {},
     "output_type": "execute_result"
    },
    {
     "data": {
      "image/png": "[encoded data removed]",
      "text/plain": [
       "<matplotlib.figure.Figure at 0x22a2b5c0>"
      ]
     },
     "metadata": {},
     "output_type": "display_data"
    }
   ],
   "source": [
    "plt.scatter(dfa['listing'],dfa['sale'])\n",
    "plt.xlabel('listing')\n",
    "plt.ylabel('sale')"
   ]
  },
  {
   "cell_type": "markdown",
   "metadata": {},
   "source": [
    "This is obvious, because sale # cannot exceed listing; all data points are shown below 45 degree line."
   ]
  },
  {
   "cell_type": "code",
   "execution_count": 18,
   "metadata": {
    "collapsed": false
   },
   "outputs": [
    {
     "data": {
      "text/plain": [
       "<matplotlib.text.Text at 0x22b76e80>"
      ]
     },
     "execution_count": 18,
     "metadata": {},
     "output_type": "execute_result"
    },
    {
     "data": {
      "image/png": "[encoded data removed]",
      "text/plain": [
       "<matplotlib.figure.Figure at 0x216ba240>"
      ]
     },
     "metadata": {},
     "output_type": "display_data"
    }
   ],
   "source": [
    "plt.scatter(dff['listing_per_day'],dfa['gmv'])\n",
    "plt.xlabel('listing per day')\n",
    "plt.ylabel('revenue')"
   ]
  },
  {
   "cell_type": "markdown",
   "metadata": {},
   "source": [
    "When the revenue is compared with daily listing, clear correlation is hard to be seen."
   ]
  },
  {
   "cell_type": "markdown",
   "metadata": {},
   "source": [
    "> # 7/11/2016\n",
    "> # Flash idea: using descision tree classifier to segregate sellers?"
   ]
  },
  {
   "cell_type": "markdown",
   "metadata": {},
   "source": [
    "# 2. Dimensional Reduction\n",
    "#### Original 11 features were reduced to 8 by feature selection, and\n",
    "#### these 8 features reduced to ?? features"
   ]
  },
  {
   "cell_type": "code",
   "execution_count": 19,
   "metadata": {
    "collapsed": false
   },
   "outputs": [
    {
     "data": {
      "text/html": [
       "<div>\n",
       "<table border=\"1\" class=\"dataframe\">\n",
       "  <thead>\n",
       "    <tr style=\"text-align: right;\">\n",
       "      <th></th>\n",
       "      <th>positive_rating</th>\n",
       "      <th>neutral_rating</th>\n",
       "      <th>negative_rating</th>\n",
       "      <th>listing_gmv</th>\n",
       "      <th>sale</th>\n",
       "      <th>buyers</th>\n",
       "      <th>gmv</th>\n",
       "      <th>listing_per_day</th>\n",
       "    </tr>\n",
       "  </thead>\n",
       "  <tbody>\n",
       "    <tr>\n",
       "      <th>2</th>\n",
       "      <td>1</td>\n",
       "      <td>0</td>\n",
       "      <td>0</td>\n",
       "      <td>10</td>\n",
       "      <td>1</td>\n",
       "      <td>1</td>\n",
       "      <td>10</td>\n",
       "      <td>0.013158</td>\n",
       "    </tr>\n",
       "    <tr>\n",
       "      <th>3</th>\n",
       "      <td>0</td>\n",
       "      <td>0</td>\n",
       "      <td>0</td>\n",
       "      <td>357</td>\n",
       "      <td>0</td>\n",
       "      <td>0</td>\n",
       "      <td>0</td>\n",
       "      <td>8.000000</td>\n",
       "    </tr>\n",
       "    <tr>\n",
       "      <th>25</th>\n",
       "      <td>0</td>\n",
       "      <td>0</td>\n",
       "      <td>0</td>\n",
       "      <td>250</td>\n",
       "      <td>0</td>\n",
       "      <td>0</td>\n",
       "      <td>0</td>\n",
       "      <td>0.346154</td>\n",
       "    </tr>\n",
       "    <tr>\n",
       "      <th>27</th>\n",
       "      <td>0</td>\n",
       "      <td>0</td>\n",
       "      <td>0</td>\n",
       "      <td>50</td>\n",
       "      <td>0</td>\n",
       "      <td>0</td>\n",
       "      <td>0</td>\n",
       "      <td>1.000000</td>\n",
       "    </tr>\n",
       "    <tr>\n",
       "      <th>42</th>\n",
       "      <td>0</td>\n",
       "      <td>0</td>\n",
       "      <td>0</td>\n",
       "      <td>143</td>\n",
       "      <td>1</td>\n",
       "      <td>1</td>\n",
       "      <td>25</td>\n",
       "      <td>0.157895</td>\n",
       "    </tr>\n",
       "  </tbody>\n",
       "</table>\n",
       "</div>"
      ],
      "text/plain": [
       "    positive_rating  neutral_rating  negative_rating  listing_gmv  sale  \\\n",
       "2                 1               0                0           10     1   \n",
       "3                 0               0                0          357     0   \n",
       "25                0               0                0          250     0   \n",
       "27                0               0                0           50     0   \n",
       "42                0               0                0          143     1   \n",
       "\n",
       "    buyers  gmv  listing_per_day  \n",
       "2        1   10         0.013158  \n",
       "3        0    0         8.000000  \n",
       "25       0    0         0.346154  \n",
       "27       0    0         1.000000  \n",
       "42       1   25         0.157895  "
      ]
     },
     "execution_count": 19,
     "metadata": {},
     "output_type": "execute_result"
    }
   ],
   "source": [
    "dff.head()"
   ]
  },
  {
   "cell_type": "markdown",
   "metadata": {},
   "source": [
    "## 2-1. feature scaling\n",
    "* Normalize each column before applying principal component analysis"
   ]
  },
  {
   "cell_type": "code",
   "execution_count": 20,
   "metadata": {
    "collapsed": true
   },
   "outputs": [],
   "source": [
    "from sklearn.preprocessing import MinMaxScaler"
   ]
  },
  {
   "cell_type": "code",
   "execution_count": 21,
   "metadata": {
    "collapsed": false
   },
   "outputs": [
    {
     "data": {
      "text/html": [
       "<div>\n",
       "<table border=\"1\" class=\"dataframe\">\n",
       "  <thead>\n",
       "    <tr style=\"text-align: right;\">\n",
       "      <th></th>\n",
       "      <th>positive_rating</th>\n",
       "      <th>neutral_rating</th>\n",
       "      <th>negative_rating</th>\n",
       "      <th>listing_gmv</th>\n",
       "      <th>sale</th>\n",
       "      <th>buyers</th>\n",
       "      <th>gmv</th>\n",
       "      <th>listing_per_day</th>\n",
       "    </tr>\n",
       "  </thead>\n",
       "  <tbody>\n",
       "    <tr>\n",
       "      <th>count</th>\n",
       "      <td>97423.000000</td>\n",
       "      <td>97423.000000</td>\n",
       "      <td>97423.000000</td>\n",
       "      <td>97423.000000</td>\n",
       "      <td>97423.000000</td>\n",
       "      <td>97423.000000</td>\n",
       "      <td>97423.000000</td>\n",
       "      <td>97423.000000</td>\n",
       "    </tr>\n",
       "    <tr>\n",
       "      <th>mean</th>\n",
       "      <td>2.387578</td>\n",
       "      <td>0.164581</td>\n",
       "      <td>0.036449</td>\n",
       "      <td>379.208462</td>\n",
       "      <td>2.699937</td>\n",
       "      <td>2.576353</td>\n",
       "      <td>67.179198</td>\n",
       "      <td>0.468860</td>\n",
       "    </tr>\n",
       "    <tr>\n",
       "      <th>std</th>\n",
       "      <td>11.463812</td>\n",
       "      <td>1.150350</td>\n",
       "      <td>0.366551</td>\n",
       "      <td>942.643014</td>\n",
       "      <td>13.607197</td>\n",
       "      <td>12.469444</td>\n",
       "      <td>278.430278</td>\n",
       "      <td>1.504483</td>\n",
       "    </tr>\n",
       "    <tr>\n",
       "      <th>min</th>\n",
       "      <td>0.000000</td>\n",
       "      <td>0.000000</td>\n",
       "      <td>0.000000</td>\n",
       "      <td>3.000000</td>\n",
       "      <td>0.000000</td>\n",
       "      <td>0.000000</td>\n",
       "      <td>0.000000</td>\n",
       "      <td>0.000000</td>\n",
       "    </tr>\n",
       "    <tr>\n",
       "      <th>25%</th>\n",
       "      <td>0.000000</td>\n",
       "      <td>0.000000</td>\n",
       "      <td>0.000000</td>\n",
       "      <td>50.000000</td>\n",
       "      <td>0.000000</td>\n",
       "      <td>0.000000</td>\n",
       "      <td>0.000000</td>\n",
       "      <td>0.037037</td>\n",
       "    </tr>\n",
       "    <tr>\n",
       "      <th>50%</th>\n",
       "      <td>0.000000</td>\n",
       "      <td>0.000000</td>\n",
       "      <td>0.000000</td>\n",
       "      <td>149.000000</td>\n",
       "      <td>0.000000</td>\n",
       "      <td>0.000000</td>\n",
       "      <td>0.000000</td>\n",
       "      <td>0.111111</td>\n",
       "    </tr>\n",
       "    <tr>\n",
       "      <th>75%</th>\n",
       "      <td>1.000000</td>\n",
       "      <td>0.000000</td>\n",
       "      <td>0.000000</td>\n",
       "      <td>375.000000</td>\n",
       "      <td>2.000000</td>\n",
       "      <td>2.000000</td>\n",
       "      <td>42.000000</td>\n",
       "      <td>0.375000</td>\n",
       "    </tr>\n",
       "    <tr>\n",
       "      <th>max</th>\n",
       "      <td>1430.000000</td>\n",
       "      <td>164.000000</td>\n",
       "      <td>57.000000</td>\n",
       "      <td>57706.000000</td>\n",
       "      <td>1826.000000</td>\n",
       "      <td>1595.000000</td>\n",
       "      <td>23175.000000</td>\n",
       "      <td>89.111111</td>\n",
       "    </tr>\n",
       "  </tbody>\n",
       "</table>\n",
       "</div>"
      ],
      "text/plain": [
       "       positive_rating  neutral_rating  negative_rating   listing_gmv  \\\n",
       "count     97423.000000    97423.000000     97423.000000  97423.000000   \n",
       "mean          2.387578        0.164581         0.036449    379.208462   \n",
       "std          11.463812        1.150350         0.366551    942.643014   \n",
       "min           0.000000        0.000000         0.000000      3.000000   \n",
       "25%           0.000000        0.000000         0.000000     50.000000   \n",
       "50%           0.000000        0.000000         0.000000    149.000000   \n",
       "75%           1.000000        0.000000         0.000000    375.000000   \n",
       "max        1430.000000      164.000000        57.000000  57706.000000   \n",
       "\n",
       "               sale        buyers           gmv  listing_per_day  \n",
       "count  97423.000000  97423.000000  97423.000000     97423.000000  \n",
       "mean       2.699937      2.576353     67.179198         0.468860  \n",
       "std       13.607197     12.469444    278.430278         1.504483  \n",
       "min        0.000000      0.000000      0.000000         0.000000  \n",
       "25%        0.000000      0.000000      0.000000         0.037037  \n",
       "50%        0.000000      0.000000      0.000000         0.111111  \n",
       "75%        2.000000      2.000000     42.000000         0.375000  \n",
       "max     1826.000000   1595.000000  23175.000000        89.111111  "
      ]
     },
     "execution_count": 21,
     "metadata": {},
     "output_type": "execute_result"
    }
   ],
   "source": [
    "dff.describe()"
   ]
  },
  {
   "cell_type": "code",
   "execution_count": 22,
   "metadata": {
    "collapsed": false
   },
   "outputs": [
    {
     "data": {
      "text/html": [
       "<div>\n",
       "<table border=\"1\" class=\"dataframe\">\n",
       "  <thead>\n",
       "    <tr style=\"text-align: right;\">\n",
       "      <th></th>\n",
       "      <th>positive_rating</th>\n",
       "      <th>neutral_rating</th>\n",
       "      <th>negative_rating</th>\n",
       "      <th>listing_gmv</th>\n",
       "      <th>sale</th>\n",
       "      <th>buyers</th>\n",
       "      <th>gmv</th>\n",
       "      <th>listing_per_day</th>\n",
       "    </tr>\n",
       "  </thead>\n",
       "  <tbody>\n",
       "    <tr>\n",
       "      <th>0</th>\n",
       "      <td>0.000699</td>\n",
       "      <td>0</td>\n",
       "      <td>0</td>\n",
       "      <td>0.000121</td>\n",
       "      <td>0.000548</td>\n",
       "      <td>0.000627</td>\n",
       "      <td>0.000431</td>\n",
       "      <td>0.000148</td>\n",
       "    </tr>\n",
       "    <tr>\n",
       "      <th>1</th>\n",
       "      <td>0.000000</td>\n",
       "      <td>0</td>\n",
       "      <td>0</td>\n",
       "      <td>0.006135</td>\n",
       "      <td>0.000000</td>\n",
       "      <td>0.000000</td>\n",
       "      <td>0.000000</td>\n",
       "      <td>0.089776</td>\n",
       "    </tr>\n",
       "    <tr>\n",
       "      <th>2</th>\n",
       "      <td>0.000000</td>\n",
       "      <td>0</td>\n",
       "      <td>0</td>\n",
       "      <td>0.004281</td>\n",
       "      <td>0.000000</td>\n",
       "      <td>0.000000</td>\n",
       "      <td>0.000000</td>\n",
       "      <td>0.003885</td>\n",
       "    </tr>\n",
       "    <tr>\n",
       "      <th>3</th>\n",
       "      <td>0.000000</td>\n",
       "      <td>0</td>\n",
       "      <td>0</td>\n",
       "      <td>0.000815</td>\n",
       "      <td>0.000000</td>\n",
       "      <td>0.000000</td>\n",
       "      <td>0.000000</td>\n",
       "      <td>0.011222</td>\n",
       "    </tr>\n",
       "    <tr>\n",
       "      <th>4</th>\n",
       "      <td>0.000000</td>\n",
       "      <td>0</td>\n",
       "      <td>0</td>\n",
       "      <td>0.002426</td>\n",
       "      <td>0.000548</td>\n",
       "      <td>0.000627</td>\n",
       "      <td>0.001079</td>\n",
       "      <td>0.001772</td>\n",
       "    </tr>\n",
       "  </tbody>\n",
       "</table>\n",
       "</div>"
      ],
      "text/plain": [
       "   positive_rating  neutral_rating  negative_rating  listing_gmv      sale  \\\n",
       "0         0.000699               0                0     0.000121  0.000548   \n",
       "1         0.000000               0                0     0.006135  0.000000   \n",
       "2         0.000000               0                0     0.004281  0.000000   \n",
       "3         0.000000               0                0     0.000815  0.000000   \n",
       "4         0.000000               0                0     0.002426  0.000548   \n",
       "\n",
       "     buyers       gmv  listing_per_day  \n",
       "0  0.000627  0.000431         0.000148  \n",
       "1  0.000000  0.000000         0.089776  \n",
       "2  0.000000  0.000000         0.003885  \n",
       "3  0.000000  0.000000         0.011222  \n",
       "4  0.000627  0.001079         0.001772  "
      ]
     },
     "execution_count": 22,
     "metadata": {},
     "output_type": "execute_result"
    }
   ],
   "source": [
    "scaler = MinMaxScaler()\n",
    "\n",
    "# scaled data\n",
    "dfs = pd.DataFrame(scaler.fit_transform(dff), columns = dff.columns)\n",
    "\n",
    "# all columns are now 'scaled'\n",
    "dfs.head()"
   ]
  },
  {
   "cell_type": "code",
   "execution_count": 59,
   "metadata": {
    "collapsed": false
   },
   "outputs": [
    {
     "data": {
      "image/png": "[encoded data removed]",
      "text/plain": [
       "<matplotlib.figure.Figure at 0x27fa36a0>"
      ]
     },
     "metadata": {},
     "output_type": "display_data"
    }
   ],
   "source": [
    "pd.scatter_matrix(dfs, alpha = 0.3, figsize = (16,10), diagonal = 'kde');"
   ]
  },
  {
   "cell_type": "markdown",
   "metadata": {},
   "source": [
    "## 2-2. PCA"
   ]
  },
  {
   "cell_type": "markdown",
   "metadata": {},
   "source": [
    "### 2-2-1 include only a few features  (ratings NOT included)"
   ]
  },
  {
   "cell_type": "markdown",
   "metadata": {},
   "source": [
    "> My initial thought was that most of the ratings are on positive side and only a few negative/neutral ones and therefore I removed all rating features."
   ]
  },
  {
   "cell_type": "code",
   "execution_count": 23,
   "metadata": {
    "collapsed": false
   },
   "outputs": [
    {
     "name": "stdout",
     "output_type": "stream",
     "text": [
      "[  5.98187649e-01   2.36452149e-01   1.29020186e-01   3.61139428e-02\n",
      "   2.26073134e-04]\n"
     ]
    }
   ],
   "source": [
    "from sklearn.decomposition import PCA\n",
    "import renders as rs\n",
    "\n",
    "pca = PCA().fit(dfs.iloc[:,3:])  # including columns ['listing_gmv' ~ 'listing_per_day']\n",
    "print pca.explained_variance_ratio_"
   ]
  },
  {
   "cell_type": "markdown",
   "metadata": {},
   "source": [
    "### 2-2-2 include all features and let PCA handles the rest"
   ]
  },
  {
   "cell_type": "markdown",
   "metadata": {},
   "source": [
    "> Ratings are added back in for PCA "
   ]
  },
  {
   "cell_type": "code",
   "execution_count": 24,
   "metadata": {
    "collapsed": false
   },
   "outputs": [
    {
     "name": "stdout",
     "output_type": "stream",
     "text": [
      "[  5.67652802e-01   2.14000204e-01   1.44869071e-01   4.58475152e-02\n",
      "   1.81139443e-02   9.07716579e-03   3.57220851e-04   8.20768457e-05]\n"
     ]
    }
   ],
   "source": [
    "from sklearn.decomposition import PCA\n",
    "pca_all = PCA().fit(dfs)  # including columns ['listing_gmv' ~ 'listing_per_day']\n",
    "print pca_all.explained_variance_ratio_"
   ]
  },
  {
   "cell_type": "markdown",
   "metadata": {},
   "source": [
    "### Based on the PCA (using all features), top three dimensions were selected and the feature dimension is now reduced to 3."
   ]
  },
  {
   "cell_type": "code",
   "execution_count": 25,
   "metadata": {
    "collapsed": false
   },
   "outputs": [
    {
     "data": {
      "text/html": [
       "<div>\n",
       "<table border=\"1\" class=\"dataframe\">\n",
       "  <thead>\n",
       "    <tr style=\"text-align: right;\">\n",
       "      <th></th>\n",
       "      <th>positive_rating</th>\n",
       "      <th>neutral_rating</th>\n",
       "      <th>negative_rating</th>\n",
       "      <th>listing_gmv</th>\n",
       "      <th>sale</th>\n",
       "      <th>buyers</th>\n",
       "      <th>gmv</th>\n",
       "      <th>listing_per_day</th>\n",
       "    </tr>\n",
       "  </thead>\n",
       "  <tbody>\n",
       "    <tr>\n",
       "      <th>0</th>\n",
       "      <td>0.000699</td>\n",
       "      <td>0</td>\n",
       "      <td>0</td>\n",
       "      <td>0.000121</td>\n",
       "      <td>0.000548</td>\n",
       "      <td>0.000627</td>\n",
       "      <td>0.000431</td>\n",
       "      <td>0.000148</td>\n",
       "    </tr>\n",
       "    <tr>\n",
       "      <th>1</th>\n",
       "      <td>0.000000</td>\n",
       "      <td>0</td>\n",
       "      <td>0</td>\n",
       "      <td>0.006135</td>\n",
       "      <td>0.000000</td>\n",
       "      <td>0.000000</td>\n",
       "      <td>0.000000</td>\n",
       "      <td>0.089776</td>\n",
       "    </tr>\n",
       "    <tr>\n",
       "      <th>2</th>\n",
       "      <td>0.000000</td>\n",
       "      <td>0</td>\n",
       "      <td>0</td>\n",
       "      <td>0.004281</td>\n",
       "      <td>0.000000</td>\n",
       "      <td>0.000000</td>\n",
       "      <td>0.000000</td>\n",
       "      <td>0.003885</td>\n",
       "    </tr>\n",
       "    <tr>\n",
       "      <th>3</th>\n",
       "      <td>0.000000</td>\n",
       "      <td>0</td>\n",
       "      <td>0</td>\n",
       "      <td>0.000815</td>\n",
       "      <td>0.000000</td>\n",
       "      <td>0.000000</td>\n",
       "      <td>0.000000</td>\n",
       "      <td>0.011222</td>\n",
       "    </tr>\n",
       "    <tr>\n",
       "      <th>4</th>\n",
       "      <td>0.000000</td>\n",
       "      <td>0</td>\n",
       "      <td>0</td>\n",
       "      <td>0.002426</td>\n",
       "      <td>0.000548</td>\n",
       "      <td>0.000627</td>\n",
       "      <td>0.001079</td>\n",
       "      <td>0.001772</td>\n",
       "    </tr>\n",
       "  </tbody>\n",
       "</table>\n",
       "</div>"
      ],
      "text/plain": [
       "   positive_rating  neutral_rating  negative_rating  listing_gmv      sale  \\\n",
       "0         0.000699               0                0     0.000121  0.000548   \n",
       "1         0.000000               0                0     0.006135  0.000000   \n",
       "2         0.000000               0                0     0.004281  0.000000   \n",
       "3         0.000000               0                0     0.000815  0.000000   \n",
       "4         0.000000               0                0     0.002426  0.000548   \n",
       "\n",
       "     buyers       gmv  listing_per_day  \n",
       "0  0.000627  0.000431         0.000148  \n",
       "1  0.000000  0.000000         0.089776  \n",
       "2  0.000000  0.000000         0.003885  \n",
       "3  0.000000  0.000000         0.011222  \n",
       "4  0.000627  0.001079         0.001772  "
      ]
     },
     "execution_count": 25,
     "metadata": {},
     "output_type": "execute_result"
    }
   ],
   "source": [
    "dfs.head()"
   ]
  },
  {
   "cell_type": "markdown",
   "metadata": {},
   "source": [
    "## Testing PCA with same number of original features (8 features)"
   ]
  },
  {
   "cell_type": "code",
   "execution_count": 26,
   "metadata": {
    "collapsed": false
   },
   "outputs": [
    {
     "data": {
      "image/png": "[encoded data removed]",
      "text/plain": [
       "<matplotlib.figure.Figure at 0x239eb3c8>"
      ]
     },
     "metadata": {},
     "output_type": "display_data"
    }
   ],
   "source": [
    "pca8 = PCA(n_components=8)\n",
    "pca8.fit(dfs)  # dfs: scaled dff\n",
    "\n",
    "reduced8 = pca8.transform(dfs)  # df_reduced: change variable names\n",
    "\n",
    "#dfr8.shape\n",
    "pca8_results = rs.pca_results(dfs,pca8)"
   ]
  },
  {
   "cell_type": "markdown",
   "metadata": {},
   "source": [
    "## Must select first FIVE dimension to maintain 99% of all variances in data"
   ]
  },
  {
   "cell_type": "code",
   "execution_count": 27,
   "metadata": {
    "collapsed": false
   },
   "outputs": [
    {
     "data": {
      "text/plain": [
       "(97423L, 5L)"
      ]
     },
     "execution_count": 27,
     "metadata": {},
     "output_type": "execute_result"
    }
   ],
   "source": [
    "pca5 = PCA(n_components=5).fit(dfs)\n",
    "reduced5 = pca5.transform(dfs)  # df_reduced: change variable names\n",
    "\n",
    "reduced5.shape"
   ]
  },
  {
   "cell_type": "markdown",
   "metadata": {},
   "source": [
    "## Visualize feature distributions\n",
    "To get a better understanding of the dataset, I construct a scatter matrix of each of the data features present in the data. "
   ]
  },
  {
   "cell_type": "code",
   "execution_count": 28,
   "metadata": {
    "collapsed": false
   },
   "outputs": [],
   "source": [
    "# pd.scatter_matrix(dff, alpha = 0.3, figsize = (16,10), diagonal = 'kde');\n",
    "\n",
    "# - use 'normalized' dataset\n",
    "\n",
    "# pd.scatter_matrix(dfs, alpha = 0.3, figsize = (16,10), diagonal = 'kde');"
   ]
  },
  {
   "cell_type": "markdown",
   "metadata": {},
   "source": [
    "# 3. Clustering Analysis"
   ]
  },
  {
   "cell_type": "markdown",
   "metadata": {},
   "source": [
    "## 3-1. Assumption"
   ]
  },
  {
   "cell_type": "markdown",
   "metadata": {},
   "source": [
    "#### I previously assumed that the sellers with no listing were categorized as 'new seller,' therefore the remaining 'active' sellers will need to be segmented into THREE groups.\n",
    "1. Casual seller\n",
    "2. Business seller\n",
    "3. Top seller"
   ]
  },
  {
   "cell_type": "markdown",
   "metadata": {},
   "source": [
    "> # 7/11/2016, 9/11/2016\n",
    "> # For this project, we don't assume n = 3. Try multiple n and then compute silhouette coefficient value\n",
    "\n",
    "> # And not just Kmeans clustering, but try other classifiers too."
   ]
  },
  {
   "cell_type": "markdown",
   "metadata": {},
   "source": [
    "#### After PCA, clustering analysis does not label the data, but rather segregates into group (in this case, three) purely based on the data; it's up to a human modeler to label them later, meaningfully."
   ]
  },
  {
   "cell_type": "markdown",
   "metadata": {},
   "source": [
    "## 3-2. Clustering"
   ]
  },
  {
   "cell_type": "markdown",
   "metadata": {},
   "source": [
    "### 3-2-1. K-means clustering"
   ]
  },
  {
   "cell_type": "markdown",
   "metadata": {},
   "source": [
    "### with sample_size = 20000"
   ]
  },
  {
   "cell_type": "code",
   "execution_count": 29,
   "metadata": {
    "collapsed": true
   },
   "outputs": [],
   "source": [
    "from sklearn.cluster import KMeans\n",
    "from sklearn.metrics import silhouette_samples, silhouette_score\n",
    "import matplotlib.pyplot as plt\n",
    "import matplotlib.cm as cm\n",
    "import time\n",
    "\n",
    "input_data = reduced5"
   ]
  },
  {
   "cell_type": "code",
   "execution_count": 30,
   "metadata": {
    "collapsed": false
   },
   "outputs": [
    {
     "name": "stdout",
     "output_type": "stream",
     "text": [
      "numer of clustering is 2 : silhouette score is 0.895474368978\n",
      "elapsed time 114.40\n",
      "numer of clustering is 3 : silhouette score is 0.851316633341\n",
      "elapsed time 117.89\n",
      "numer of clustering is 4 : silhouette score is 0.833795162921\n",
      "elapsed time 121.22\n",
      "numer of clustering is 5 : silhouette score is 0.759716759741\n",
      "elapsed time 124.02\n"
     ]
    }
   ],
   "source": [
    "row_selections = np.random.randint(len(input_data),size=20000)\n",
    "\n",
    "for n in range(2,6):\n",
    "    startT = time.time()\n",
    "    \n",
    "    # Clustering is being done with entire datasets, but silhouette score computation is NOT.\n",
    "\n",
    "    clusterer = KMeans(init = 'k-means++', n_clusters=n, n_init=10, max_iter = 500, \n",
    "                       random_state= 200)\n",
    "    \n",
    "    clusterer.fit(reduced5)\n",
    "    cluster_labels = clusterer.fit_predict(input_data)\n",
    "    \n",
    "    \n",
    "    startT = time.time()\n",
    "    silhouette_avg = silhouette_score(input_data[row_selections,:],\n",
    "                                  cluster_labels[row_selections])\n",
    "    sample_silhouette_values = silhouette_samples(input_data[row_selections,:], \n",
    "                                              cluster_labels[row_selections])\n",
    "    endT = time.time()\n",
    "    print 'numer of clustering is',n,': silhouette score is',silhouette_avg\n",
    "    print \"elapsed time %.2f\" % (endT-startT)"
   ]
  },
  {
   "cell_type": "markdown",
   "metadata": {},
   "source": [
    "> below can be skipped"
   ]
  },
  {
   "cell_type": "code",
   "execution_count": 31,
   "metadata": {
    "collapsed": false
   },
   "outputs": [
    {
     "name": "stdout",
     "output_type": "stream",
     "text": [
      "numer of clustering is 2 : silhouette score is 0.903753164306\n",
      "elapsed time 119.67\n",
      "numer of clustering is 3 : silhouette score is 0.857492754736\n",
      "elapsed time 121.52\n",
      "numer of clustering is 4 : silhouette score is 0.839071514725\n",
      "elapsed time 135.54\n",
      "numer of clustering is 5 : silhouette score is 0.76410845898\n",
      "elapsed time 127.10\n"
     ]
    }
   ],
   "source": [
    "row_selections = np.random.randint(len(input_data),size=20000)\n",
    "\n",
    "for n in range(2,6):\n",
    "    # del cluster_labels, clusterer, silhouette_avg\n",
    "    \n",
    "    startT = time.time()\n",
    "\n",
    "    clusterer = KMeans(init = 'k-means++', n_clusters=n, n_init=10, max_iter = 500, \n",
    "                       random_state= 200)\n",
    "    \n",
    "    clusterer.fit(reduced5)\n",
    "    #cluster_labels = clusterer.fit_predict(input_data)\n",
    "    cluster_labels = clusterer.labels_\n",
    "    \n",
    "    startT = time.time()\n",
    "    silhouette_avg = silhouette_score(input_data[row_selections,:],\n",
    "                                  cluster_labels[row_selections])\n",
    "    sample_silhouette_values = silhouette_samples(input_data[row_selections,:], \n",
    "                                              cluster_labels[row_selections])\n",
    "    endT = time.time()\n",
    "    print 'numer of clustering is',n,': silhouette score is',silhouette_avg\n",
    "    print \"elapsed time %.2f\" % (endT-startT)"
   ]
  },
  {
   "cell_type": "markdown",
   "metadata": {},
   "source": [
    "## TESTING plot when n = 3"
   ]
  },
  {
   "cell_type": "code",
   "execution_count": 31,
   "metadata": {
    "collapsed": true
   },
   "outputs": [],
   "source": [
    "input_data = reduced5\n",
    "row_selections = np.random.randint(len(input_data),size=30000)\n",
    "\n",
    "# number of clusters\n",
    "n = 3\n",
    "\n",
    "startT = time.time()\n",
    "\n",
    "clusterer = KMeans(init = 'k-means++', n_clusters=n, n_init=10, max_iter = 500)\n",
    "\n",
    "clusterer.fit(reduced5)\n",
    "#cluster_labels = clusterer.fit_predict(input_data)\n",
    "cluster_labels = clusterer.labels_"
   ]
  },
  {
   "cell_type": "code",
   "execution_count": 30,
   "metadata": {
    "collapsed": false
   },
   "outputs": [
    {
     "name": "stdout",
     "output_type": "stream",
     "text": [
      "numer of clustering is 3 : silhouette score is 0.855088170985\n",
      "elapsed time 961.18\n"
     ]
    }
   ],
   "source": [
    "silhouette_avg = silhouette_score(input_data[row_selections,:],\n",
    "                              cluster_labels[row_selections])\n",
    "sample_silhouette_values = silhouette_samples(input_data[row_selections,:], \n",
    "                                          cluster_labels[row_selections])\n",
    "endT = time.time()\n",
    "print 'numer of clustering is',n,': silhouette score is',silhouette_avg\n",
    "print \"elapsed time %.2f\" % (endT-startT)"
   ]
  },
  {
   "cell_type": "markdown",
   "metadata": {},
   "source": [
    "> below can be skipped"
   ]
  },
  {
   "cell_type": "code",
   "execution_count": 31,
   "metadata": {
    "collapsed": false
   },
   "outputs": [
    {
     "name": "stdout",
     "output_type": "stream",
     "text": [
      "numer of clustering is 3 : silhouette score is 0.856467374834\n",
      "elapsed time 2795.36\n"
     ]
    }
   ],
   "source": [
    "input_data = reduced5\n",
    "row_selections = np.random.randint(len(input_data),size=40000)\n",
    "\n",
    "# number of clusters\n",
    "n = 3\n",
    "\n",
    "clusterer = KMeans(init = 'k-means++', n_clusters=n, n_init=10, max_iter = 500, \n",
    "                   random_state= 200)\n",
    "\n",
    "clusterer.fit(reduced5)\n",
    "cluster_labels = clusterer.fit_predict(input_data)\n",
    "\n",
    "startT = time.time()\n",
    "silhouette_avg = silhouette_score(input_data[row_selections,:],\n",
    "                              cluster_labels[row_selections])\n",
    "sample_silhouette_values = silhouette_samples(input_data[row_selections,:], \n",
    "                                          cluster_labels[row_selections])\n",
    "endT = time.time()\n",
    "print 'numer of clustering is',n,': silhouette score is',silhouette_avg\n",
    "print \"elapsed time %.2f\" % (endT-startT)"
   ]
  },
  {
   "cell_type": "markdown",
   "metadata": {},
   "source": [
    "## Visualizing silhouette scores"
   ]
  },
  {
   "cell_type": "code",
   "execution_count": 31,
   "metadata": {
    "collapsed": false,
    "scrolled": false
   },
   "outputs": [
    {
     "name": "stdout",
     "output_type": "stream",
     "text": [
      "29004\n",
      "22\n",
      "974\n"
     ]
    },
    {
     "data": {
      "image/png": "[encoded data removed]",
      "text/plain": [
       "<matplotlib.figure.Figure at 0x1336aea90>"
      ]
     },
     "metadata": {},
     "output_type": "display_data"
    }
   ],
   "source": [
    "y_lower = 10\n",
    "nn_cluster = 3\n",
    "\n",
    "#fig, (ax1,ax2) = plt.subplots(1,2)\n",
    "fig, ax1 = plt.subplots(1,1)\n",
    "fig.set_size_inches(18,7)\n",
    "\n",
    "# for i in range(1,nn_cluster):\n",
    "for i in range(0,nn_cluster):\n",
    "    ith_cluster_silhouette_values = sample_silhouette_values[cluster_labels[row_selections] == i]\n",
    "    ith_cluster_silhouette_values.sort()\n",
    "    \n",
    "    size_cluster_i = ith_cluster_silhouette_values.shape[0]\n",
    "    y_upper = y_lower + size_cluster_i\n",
    "    color = cm.spectral(float(i)/nn_cluster)\n",
    "    ax1.fill_betweenx(np.arange(y_lower,y_upper), 0,\n",
    "                     ith_cluster_silhouette_values,\n",
    "                     facecolor = color, edgecolor = color, alpha = 0.7)\n",
    "    ax1.text(-0.05, y_lower + 0.5*size_cluster_i, str(i))\n",
    "    y_lower = y_upper + 10\n",
    "    ax1.set_yticks([])\n",
    "    print size_cluster_i"
   ]
  },
  {
   "cell_type": "markdown",
   "metadata": {},
   "source": [
    "Append the cluster groups to the database and examine each clusters"
   ]
  },
  {
   "cell_type": "code",
   "execution_count": 32,
   "metadata": {
    "collapsed": false
   },
   "outputs": [
    {
     "name": "stderr",
     "output_type": "stream",
     "text": [
      "C:\\Users\\seungjinb\\Anaconda\\lib\\site-packages\\ipykernel\\__main__.py:5: SettingWithCopyWarning: \n",
      "A value is trying to be set on a copy of a slice from a DataFrame.\n",
      "Try using .loc[row_indexer,col_indexer] = value instead\n",
      "\n",
      "See the caveats in the documentation: http://pandas.pydata.org/pandas-docs/stable/indexing.html#indexing-view-versus-copy\n"
     ]
    }
   ],
   "source": [
    "# dfs : scaled data\n",
    "dfs['clusters'] = cluster_labels\n",
    "\n",
    "# dfa: original 'active' data\n",
    "dfa['clusters'] = cluster_labels"
   ]
  },
  {
   "cell_type": "code",
   "execution_count": 33,
   "metadata": {
    "collapsed": false
   },
   "outputs": [
    {
     "data": {
      "text/html": [
       "<div>\n",
       "<table border=\"1\" class=\"dataframe\">\n",
       "  <thead>\n",
       "    <tr style=\"text-align: right;\">\n",
       "      <th></th>\n",
       "      <th>id</th>\n",
       "      <th>time_on_site</th>\n",
       "      <th>positive_rating</th>\n",
       "      <th>neutral_rating</th>\n",
       "      <th>negative_rating</th>\n",
       "      <th>listing</th>\n",
       "      <th>listing_gmv</th>\n",
       "      <th>sale</th>\n",
       "      <th>buyers</th>\n",
       "      <th>gmv</th>\n",
       "      <th>listing_per_day</th>\n",
       "      <th>clusters</th>\n",
       "    </tr>\n",
       "  </thead>\n",
       "  <tbody>\n",
       "    <tr>\n",
       "      <th>3</th>\n",
       "      <td>100002548</td>\n",
       "      <td>5</td>\n",
       "      <td>0</td>\n",
       "      <td>0</td>\n",
       "      <td>0</td>\n",
       "      <td>40</td>\n",
       "      <td>357</td>\n",
       "      <td>0</td>\n",
       "      <td>0</td>\n",
       "      <td>0</td>\n",
       "      <td>8.000000</td>\n",
       "      <td>1</td>\n",
       "    </tr>\n",
       "    <tr>\n",
       "      <th>160</th>\n",
       "      <td>100132264</td>\n",
       "      <td>65</td>\n",
       "      <td>19</td>\n",
       "      <td>1</td>\n",
       "      <td>0</td>\n",
       "      <td>93</td>\n",
       "      <td>2065</td>\n",
       "      <td>21</td>\n",
       "      <td>20</td>\n",
       "      <td>490</td>\n",
       "      <td>1.430769</td>\n",
       "      <td>1</td>\n",
       "    </tr>\n",
       "    <tr>\n",
       "      <th>242</th>\n",
       "      <td>100203484</td>\n",
       "      <td>79</td>\n",
       "      <td>27</td>\n",
       "      <td>1</td>\n",
       "      <td>0</td>\n",
       "      <td>105</td>\n",
       "      <td>2477</td>\n",
       "      <td>29</td>\n",
       "      <td>29</td>\n",
       "      <td>754</td>\n",
       "      <td>1.329114</td>\n",
       "      <td>1</td>\n",
       "    </tr>\n",
       "    <tr>\n",
       "      <th>1232</th>\n",
       "      <td>100921416</td>\n",
       "      <td>60</td>\n",
       "      <td>22</td>\n",
       "      <td>2</td>\n",
       "      <td>0</td>\n",
       "      <td>108</td>\n",
       "      <td>1728</td>\n",
       "      <td>27</td>\n",
       "      <td>27</td>\n",
       "      <td>408</td>\n",
       "      <td>1.800000</td>\n",
       "      <td>1</td>\n",
       "    </tr>\n",
       "    <tr>\n",
       "      <th>1242</th>\n",
       "      <td>100924949</td>\n",
       "      <td>66</td>\n",
       "      <td>34</td>\n",
       "      <td>3</td>\n",
       "      <td>0</td>\n",
       "      <td>478</td>\n",
       "      <td>3958</td>\n",
       "      <td>38</td>\n",
       "      <td>38</td>\n",
       "      <td>398</td>\n",
       "      <td>7.242424</td>\n",
       "      <td>1</td>\n",
       "    </tr>\n",
       "  </tbody>\n",
       "</table>\n",
       "</div>"
      ],
      "text/plain": [
       "             id  time_on_site  positive_rating  neutral_rating  \\\n",
       "3     100002548             5                0               0   \n",
       "160   100132264            65               19               1   \n",
       "242   100203484            79               27               1   \n",
       "1232  100921416            60               22               2   \n",
       "1242  100924949            66               34               3   \n",
       "\n",
       "      negative_rating  listing  listing_gmv  sale  buyers  gmv  \\\n",
       "3                   0       40          357     0       0    0   \n",
       "160                 0       93         2065    21      20  490   \n",
       "242                 0      105         2477    29      29  754   \n",
       "1232                0      108         1728    27      27  408   \n",
       "1242                0      478         3958    38      38  398   \n",
       "\n",
       "      listing_per_day  clusters  \n",
       "3            8.000000         1  \n",
       "160          1.430769         1  \n",
       "242          1.329114         1  \n",
       "1232         1.800000         1  \n",
       "1242         7.242424         1  "
      ]
     },
     "execution_count": 33,
     "metadata": {},
     "output_type": "execute_result"
    }
   ],
   "source": [
    "dfa[dfa['clusters'] == 1].head()"
   ]
  },
  {
   "cell_type": "code",
   "execution_count": 34,
   "metadata": {
    "collapsed": false
   },
   "outputs": [
    {
     "data": {
      "text/html": [
       "<div>\n",
       "<table border=\"1\" class=\"dataframe\">\n",
       "  <thead>\n",
       "    <tr style=\"text-align: right;\">\n",
       "      <th></th>\n",
       "      <th>id</th>\n",
       "      <th>time_on_site</th>\n",
       "      <th>positive_rating</th>\n",
       "      <th>neutral_rating</th>\n",
       "      <th>negative_rating</th>\n",
       "      <th>listing</th>\n",
       "      <th>listing_gmv</th>\n",
       "      <th>sale</th>\n",
       "      <th>buyers</th>\n",
       "      <th>gmv</th>\n",
       "      <th>listing_per_day</th>\n",
       "      <th>clusters</th>\n",
       "    </tr>\n",
       "  </thead>\n",
       "  <tbody>\n",
       "    <tr>\n",
       "      <th>4558</th>\n",
       "      <td>103409199</td>\n",
       "      <td>65</td>\n",
       "      <td>162</td>\n",
       "      <td>7</td>\n",
       "      <td>1</td>\n",
       "      <td>249</td>\n",
       "      <td>8466</td>\n",
       "      <td>174</td>\n",
       "      <td>155</td>\n",
       "      <td>5553</td>\n",
       "      <td>3.830769</td>\n",
       "      <td>2</td>\n",
       "    </tr>\n",
       "    <tr>\n",
       "      <th>7163</th>\n",
       "      <td>105352411</td>\n",
       "      <td>52</td>\n",
       "      <td>190</td>\n",
       "      <td>6</td>\n",
       "      <td>1</td>\n",
       "      <td>501</td>\n",
       "      <td>7416</td>\n",
       "      <td>203</td>\n",
       "      <td>181</td>\n",
       "      <td>3023</td>\n",
       "      <td>9.634615</td>\n",
       "      <td>2</td>\n",
       "    </tr>\n",
       "    <tr>\n",
       "      <th>23665</th>\n",
       "      <td>117759762</td>\n",
       "      <td>69</td>\n",
       "      <td>79</td>\n",
       "      <td>6</td>\n",
       "      <td>0</td>\n",
       "      <td>145</td>\n",
       "      <td>20190</td>\n",
       "      <td>85</td>\n",
       "      <td>76</td>\n",
       "      <td>12650</td>\n",
       "      <td>2.101449</td>\n",
       "      <td>2</td>\n",
       "    </tr>\n",
       "    <tr>\n",
       "      <th>27055</th>\n",
       "      <td>120319354</td>\n",
       "      <td>78</td>\n",
       "      <td>186</td>\n",
       "      <td>10</td>\n",
       "      <td>5</td>\n",
       "      <td>515</td>\n",
       "      <td>11171</td>\n",
       "      <td>209</td>\n",
       "      <td>199</td>\n",
       "      <td>4443</td>\n",
       "      <td>6.602564</td>\n",
       "      <td>2</td>\n",
       "    </tr>\n",
       "    <tr>\n",
       "      <th>33949</th>\n",
       "      <td>125512323</td>\n",
       "      <td>63</td>\n",
       "      <td>209</td>\n",
       "      <td>6</td>\n",
       "      <td>1</td>\n",
       "      <td>334</td>\n",
       "      <td>8935</td>\n",
       "      <td>220</td>\n",
       "      <td>183</td>\n",
       "      <td>4773</td>\n",
       "      <td>5.301587</td>\n",
       "      <td>2</td>\n",
       "    </tr>\n",
       "  </tbody>\n",
       "</table>\n",
       "</div>"
      ],
      "text/plain": [
       "              id  time_on_site  positive_rating  neutral_rating  \\\n",
       "4558   103409199            65              162               7   \n",
       "7163   105352411            52              190               6   \n",
       "23665  117759762            69               79               6   \n",
       "27055  120319354            78              186              10   \n",
       "33949  125512323            63              209               6   \n",
       "\n",
       "       negative_rating  listing  listing_gmv  sale  buyers    gmv  \\\n",
       "4558                 1      249         8466   174     155   5553   \n",
       "7163                 1      501         7416   203     181   3023   \n",
       "23665                0      145        20190    85      76  12650   \n",
       "27055                5      515        11171   209     199   4443   \n",
       "33949                1      334         8935   220     183   4773   \n",
       "\n",
       "       listing_per_day  clusters  \n",
       "4558          3.830769         2  \n",
       "7163          9.634615         2  \n",
       "23665         2.101449         2  \n",
       "27055         6.602564         2  \n",
       "33949         5.301587         2  "
      ]
     },
     "execution_count": 34,
     "metadata": {},
     "output_type": "execute_result"
    }
   ],
   "source": [
    "dfa[dfa['clusters'] == 2].head()"
   ]
  },
  {
   "cell_type": "code",
   "execution_count": 47,
   "metadata": {
    "collapsed": false
   },
   "outputs": [
    {
     "data": {
      "text/html": [
       "<div>\n",
       "<table border=\"1\" class=\"dataframe\">\n",
       "  <thead>\n",
       "    <tr style=\"text-align: right;\">\n",
       "      <th></th>\n",
       "      <th>id</th>\n",
       "      <th>time_on_site</th>\n",
       "      <th>positive_rating</th>\n",
       "      <th>neutral_rating</th>\n",
       "      <th>negative_rating</th>\n",
       "      <th>listing</th>\n",
       "      <th>listing_gmv</th>\n",
       "      <th>sale</th>\n",
       "      <th>buyers</th>\n",
       "      <th>gmv</th>\n",
       "      <th>listing_per_day</th>\n",
       "      <th>clusters</th>\n",
       "    </tr>\n",
       "  </thead>\n",
       "  <tbody>\n",
       "    <tr>\n",
       "      <th>1207710</th>\n",
       "      <td>999942243</td>\n",
       "      <td>6</td>\n",
       "      <td>0</td>\n",
       "      <td>0</td>\n",
       "      <td>0</td>\n",
       "      <td>1</td>\n",
       "      <td>90</td>\n",
       "      <td>0</td>\n",
       "      <td>0</td>\n",
       "      <td>0</td>\n",
       "      <td>0.166667</td>\n",
       "      <td>0</td>\n",
       "    </tr>\n",
       "    <tr>\n",
       "      <th>1207735</th>\n",
       "      <td>999963328</td>\n",
       "      <td>20</td>\n",
       "      <td>3</td>\n",
       "      <td>1</td>\n",
       "      <td>0</td>\n",
       "      <td>12</td>\n",
       "      <td>205</td>\n",
       "      <td>4</td>\n",
       "      <td>4</td>\n",
       "      <td>18</td>\n",
       "      <td>0.600000</td>\n",
       "      <td>0</td>\n",
       "    </tr>\n",
       "    <tr>\n",
       "      <th>1207748</th>\n",
       "      <td>999974669</td>\n",
       "      <td>5</td>\n",
       "      <td>0</td>\n",
       "      <td>0</td>\n",
       "      <td>0</td>\n",
       "      <td>1</td>\n",
       "      <td>10</td>\n",
       "      <td>0</td>\n",
       "      <td>0</td>\n",
       "      <td>0</td>\n",
       "      <td>0.200000</td>\n",
       "      <td>0</td>\n",
       "    </tr>\n",
       "    <tr>\n",
       "      <th>1207751</th>\n",
       "      <td>999976784</td>\n",
       "      <td>8</td>\n",
       "      <td>1</td>\n",
       "      <td>0</td>\n",
       "      <td>0</td>\n",
       "      <td>9</td>\n",
       "      <td>655</td>\n",
       "      <td>1</td>\n",
       "      <td>1</td>\n",
       "      <td>80</td>\n",
       "      <td>1.125000</td>\n",
       "      <td>0</td>\n",
       "    </tr>\n",
       "    <tr>\n",
       "      <th>1207756</th>\n",
       "      <td>999981906</td>\n",
       "      <td>28</td>\n",
       "      <td>0</td>\n",
       "      <td>0</td>\n",
       "      <td>0</td>\n",
       "      <td>3</td>\n",
       "      <td>416</td>\n",
       "      <td>0</td>\n",
       "      <td>0</td>\n",
       "      <td>0</td>\n",
       "      <td>0.107143</td>\n",
       "      <td>0</td>\n",
       "    </tr>\n",
       "  </tbody>\n",
       "</table>\n",
       "</div>"
      ],
      "text/plain": [
       "                id  time_on_site  positive_rating  neutral_rating  \\\n",
       "1207710  999942243             6                0               0   \n",
       "1207735  999963328            20                3               1   \n",
       "1207748  999974669             5                0               0   \n",
       "1207751  999976784             8                1               0   \n",
       "1207756  999981906            28                0               0   \n",
       "\n",
       "         negative_rating  listing  listing_gmv  sale  buyers  gmv  \\\n",
       "1207710                0        1           90     0       0    0   \n",
       "1207735                0       12          205     4       4   18   \n",
       "1207748                0        1           10     0       0    0   \n",
       "1207751                0        9          655     1       1   80   \n",
       "1207756                0        3          416     0       0    0   \n",
       "\n",
       "         listing_per_day  clusters  \n",
       "1207710         0.166667         0  \n",
       "1207735         0.600000         0  \n",
       "1207748         0.200000         0  \n",
       "1207751         1.125000         0  \n",
       "1207756         0.107143         0  "
      ]
     },
     "execution_count": 47,
     "metadata": {},
     "output_type": "execute_result"
    }
   ],
   "source": [
    "dfa[dfa['clusters'] == 0].tail()"
   ]
  },
  {
   "cell_type": "code",
   "execution_count": 48,
   "metadata": {
    "collapsed": false
   },
   "outputs": [],
   "source": [
    "# df2: original import without install_date column\n",
    "# del df_clustered\n",
    "df_clustered = pd.merge(df2, dfa[['id','clusters']],on='id',how='left')\n",
    "df_clustered2 = df_clustered.fillna(3)"
   ]
  },
  {
   "cell_type": "code",
   "execution_count": 49,
   "metadata": {
    "collapsed": false
   },
   "outputs": [
    {
     "data": {
      "text/html": [
       "<div>\n",
       "<table border=\"1\" class=\"dataframe\">\n",
       "  <thead>\n",
       "    <tr style=\"text-align: right;\">\n",
       "      <th></th>\n",
       "      <th>id</th>\n",
       "      <th>time_on_site</th>\n",
       "      <th>positive_rating</th>\n",
       "      <th>neutral_rating</th>\n",
       "      <th>negative_rating</th>\n",
       "      <th>listing</th>\n",
       "      <th>listing_gmv</th>\n",
       "      <th>sale</th>\n",
       "      <th>buyers</th>\n",
       "      <th>gmv</th>\n",
       "      <th>listing_per_day</th>\n",
       "      <th>clusters</th>\n",
       "    </tr>\n",
       "  </thead>\n",
       "  <tbody>\n",
       "    <tr>\n",
       "      <th>0</th>\n",
       "      <td>100000126</td>\n",
       "      <td>27</td>\n",
       "      <td>0</td>\n",
       "      <td>0</td>\n",
       "      <td>0</td>\n",
       "      <td>0</td>\n",
       "      <td>0</td>\n",
       "      <td>0</td>\n",
       "      <td>0</td>\n",
       "      <td>0</td>\n",
       "      <td>0.000000</td>\n",
       "      <td>3</td>\n",
       "    </tr>\n",
       "    <tr>\n",
       "      <th>1</th>\n",
       "      <td>100000329</td>\n",
       "      <td>5</td>\n",
       "      <td>0</td>\n",
       "      <td>0</td>\n",
       "      <td>0</td>\n",
       "      <td>0</td>\n",
       "      <td>0</td>\n",
       "      <td>0</td>\n",
       "      <td>0</td>\n",
       "      <td>0</td>\n",
       "      <td>0.000000</td>\n",
       "      <td>3</td>\n",
       "    </tr>\n",
       "    <tr>\n",
       "      <th>2</th>\n",
       "      <td>100002348</td>\n",
       "      <td>76</td>\n",
       "      <td>1</td>\n",
       "      <td>0</td>\n",
       "      <td>0</td>\n",
       "      <td>1</td>\n",
       "      <td>10</td>\n",
       "      <td>1</td>\n",
       "      <td>1</td>\n",
       "      <td>10</td>\n",
       "      <td>0.013158</td>\n",
       "      <td>0</td>\n",
       "    </tr>\n",
       "    <tr>\n",
       "      <th>3</th>\n",
       "      <td>100002548</td>\n",
       "      <td>5</td>\n",
       "      <td>0</td>\n",
       "      <td>0</td>\n",
       "      <td>0</td>\n",
       "      <td>40</td>\n",
       "      <td>357</td>\n",
       "      <td>0</td>\n",
       "      <td>0</td>\n",
       "      <td>0</td>\n",
       "      <td>8.000000</td>\n",
       "      <td>1</td>\n",
       "    </tr>\n",
       "    <tr>\n",
       "      <th>4</th>\n",
       "      <td>100003707</td>\n",
       "      <td>23</td>\n",
       "      <td>0</td>\n",
       "      <td>0</td>\n",
       "      <td>0</td>\n",
       "      <td>0</td>\n",
       "      <td>0</td>\n",
       "      <td>0</td>\n",
       "      <td>0</td>\n",
       "      <td>0</td>\n",
       "      <td>0.000000</td>\n",
       "      <td>3</td>\n",
       "    </tr>\n",
       "  </tbody>\n",
       "</table>\n",
       "</div>"
      ],
      "text/plain": [
       "          id  time_on_site  positive_rating  neutral_rating  negative_rating  \\\n",
       "0  100000126            27                0               0                0   \n",
       "1  100000329             5                0               0                0   \n",
       "2  100002348            76                1               0                0   \n",
       "3  100002548             5                0               0                0   \n",
       "4  100003707            23                0               0                0   \n",
       "\n",
       "   listing  listing_gmv  sale  buyers  gmv  listing_per_day  clusters  \n",
       "0        0            0     0       0    0         0.000000         3  \n",
       "1        0            0     0       0    0         0.000000         3  \n",
       "2        1           10     1       1   10         0.013158         0  \n",
       "3       40          357     0       0    0         8.000000         1  \n",
       "4        0            0     0       0    0         0.000000         3  "
      ]
     },
     "execution_count": 49,
     "metadata": {},
     "output_type": "execute_result"
    }
   ],
   "source": [
    "df_clustered2.head()"
   ]
  },
  {
   "cell_type": "code",
   "execution_count": 50,
   "metadata": {
    "collapsed": true
   },
   "outputs": [],
   "source": [
    "df_kmeans = df_clustered2.groupby(df_clustered2['clusters'])"
   ]
  },
  {
   "cell_type": "code",
   "execution_count": 51,
   "metadata": {
    "collapsed": false
   },
   "outputs": [
    {
     "data": {
      "text/html": [
       "<div>\n",
       "<table border=\"1\" class=\"dataframe\">\n",
       "  <thead>\n",
       "    <tr style=\"text-align: right;\">\n",
       "      <th></th>\n",
       "      <th></th>\n",
       "      <th>listing</th>\n",
       "      <th>listing_gmv</th>\n",
       "      <th>sale</th>\n",
       "      <th>buyers</th>\n",
       "      <th>gmv</th>\n",
       "    </tr>\n",
       "    <tr>\n",
       "      <th>clusters</th>\n",
       "      <th></th>\n",
       "      <th></th>\n",
       "      <th></th>\n",
       "      <th></th>\n",
       "      <th></th>\n",
       "      <th></th>\n",
       "    </tr>\n",
       "  </thead>\n",
       "  <tbody>\n",
       "    <tr>\n",
       "      <th rowspan=\"8\" valign=\"top\">0</th>\n",
       "      <th>count</th>\n",
       "      <td>93915.000000</td>\n",
       "      <td>93915.000000</td>\n",
       "      <td>93915.000000</td>\n",
       "      <td>93915.000000</td>\n",
       "      <td>93915.000000</td>\n",
       "    </tr>\n",
       "    <tr>\n",
       "      <th>mean</th>\n",
       "      <td>8.733887</td>\n",
       "      <td>273.256338</td>\n",
       "      <td>1.607475</td>\n",
       "      <td>1.560145</td>\n",
       "      <td>41.293734</td>\n",
       "    </tr>\n",
       "    <tr>\n",
       "      <th>std</th>\n",
       "      <td>14.286154</td>\n",
       "      <td>374.521167</td>\n",
       "      <td>3.850320</td>\n",
       "      <td>3.691204</td>\n",
       "      <td>98.944109</td>\n",
       "    </tr>\n",
       "    <tr>\n",
       "      <th>min</th>\n",
       "      <td>1.000000</td>\n",
       "      <td>3.000000</td>\n",
       "      <td>0.000000</td>\n",
       "      <td>0.000000</td>\n",
       "      <td>0.000000</td>\n",
       "    </tr>\n",
       "    <tr>\n",
       "      <th>25%</th>\n",
       "      <td>1.000000</td>\n",
       "      <td>50.000000</td>\n",
       "      <td>0.000000</td>\n",
       "      <td>0.000000</td>\n",
       "      <td>0.000000</td>\n",
       "    </tr>\n",
       "    <tr>\n",
       "      <th>50%</th>\n",
       "      <td>3.000000</td>\n",
       "      <td>138.000000</td>\n",
       "      <td>0.000000</td>\n",
       "      <td>0.000000</td>\n",
       "      <td>0.000000</td>\n",
       "    </tr>\n",
       "    <tr>\n",
       "      <th>75%</th>\n",
       "      <td>10.000000</td>\n",
       "      <td>340.000000</td>\n",
       "      <td>1.000000</td>\n",
       "      <td>1.000000</td>\n",
       "      <td>35.000000</td>\n",
       "    </tr>\n",
       "    <tr>\n",
       "      <th>max</th>\n",
       "      <td>225.000000</td>\n",
       "      <td>4000.000000</td>\n",
       "      <td>60.000000</td>\n",
       "      <td>58.000000</td>\n",
       "      <td>1541.000000</td>\n",
       "    </tr>\n",
       "    <tr>\n",
       "      <th rowspan=\"8\" valign=\"top\">1</th>\n",
       "      <th>count</th>\n",
       "      <td>3431.000000</td>\n",
       "      <td>3431.000000</td>\n",
       "      <td>3431.000000</td>\n",
       "      <td>3431.000000</td>\n",
       "      <td>3431.000000</td>\n",
       "    </tr>\n",
       "    <tr>\n",
       "      <th>mean</th>\n",
       "      <td>104.140192</td>\n",
       "      <td>2945.037015</td>\n",
       "      <td>26.652579</td>\n",
       "      <td>25.019528</td>\n",
       "      <td>658.105800</td>\n",
       "    </tr>\n",
       "    <tr>\n",
       "      <th>std</th>\n",
       "      <td>89.107138</td>\n",
       "      <td>2521.002412</td>\n",
       "      <td>31.667652</td>\n",
       "      <td>29.403435</td>\n",
       "      <td>764.350098</td>\n",
       "    </tr>\n",
       "    <tr>\n",
       "      <th>min</th>\n",
       "      <td>1.000000</td>\n",
       "      <td>50.000000</td>\n",
       "      <td>0.000000</td>\n",
       "      <td>0.000000</td>\n",
       "      <td>0.000000</td>\n",
       "    </tr>\n",
       "    <tr>\n",
       "      <th>25%</th>\n",
       "      <td>44.000000</td>\n",
       "      <td>1387.500000</td>\n",
       "      <td>4.000000</td>\n",
       "      <td>4.000000</td>\n",
       "      <td>110.000000</td>\n",
       "    </tr>\n",
       "    <tr>\n",
       "      <th>50%</th>\n",
       "      <td>83.000000</td>\n",
       "      <td>2331.000000</td>\n",
       "      <td>17.000000</td>\n",
       "      <td>16.000000</td>\n",
       "      <td>439.000000</td>\n",
       "    </tr>\n",
       "    <tr>\n",
       "      <th>75%</th>\n",
       "      <td>137.000000</td>\n",
       "      <td>3730.000000</td>\n",
       "      <td>38.000000</td>\n",
       "      <td>36.000000</td>\n",
       "      <td>924.000000</td>\n",
       "    </tr>\n",
       "    <tr>\n",
       "      <th>max</th>\n",
       "      <td>769.000000</td>\n",
       "      <td>23093.000000</td>\n",
       "      <td>255.000000</td>\n",
       "      <td>248.000000</td>\n",
       "      <td>8446.000000</td>\n",
       "    </tr>\n",
       "    <tr>\n",
       "      <th rowspan=\"8\" valign=\"top\">2</th>\n",
       "      <th>count</th>\n",
       "      <td>77.000000</td>\n",
       "      <td>77.000000</td>\n",
       "      <td>77.000000</td>\n",
       "      <td>77.000000</td>\n",
       "      <td>77.000000</td>\n",
       "    </tr>\n",
       "    <tr>\n",
       "      <th>mean</th>\n",
       "      <td>691.649351</td>\n",
       "      <td>15277.077922</td>\n",
       "      <td>267.857143</td>\n",
       "      <td>241.987013</td>\n",
       "      <td>5308.272727</td>\n",
       "    </tr>\n",
       "    <tr>\n",
       "      <th>std</th>\n",
       "      <td>578.994791</td>\n",
       "      <td>11955.298952</td>\n",
       "      <td>274.148045</td>\n",
       "      <td>247.732426</td>\n",
       "      <td>4060.448286</td>\n",
       "    </tr>\n",
       "    <tr>\n",
       "      <th>min</th>\n",
       "      <td>39.000000</td>\n",
       "      <td>1547.000000</td>\n",
       "      <td>0.000000</td>\n",
       "      <td>0.000000</td>\n",
       "      <td>0.000000</td>\n",
       "    </tr>\n",
       "    <tr>\n",
       "      <th>25%</th>\n",
       "      <td>311.000000</td>\n",
       "      <td>7535.000000</td>\n",
       "      <td>119.000000</td>\n",
       "      <td>103.000000</td>\n",
       "      <td>2653.000000</td>\n",
       "    </tr>\n",
       "    <tr>\n",
       "      <th>50%</th>\n",
       "      <td>555.000000</td>\n",
       "      <td>11595.000000</td>\n",
       "      <td>209.000000</td>\n",
       "      <td>187.000000</td>\n",
       "      <td>4443.000000</td>\n",
       "    </tr>\n",
       "    <tr>\n",
       "      <th>75%</th>\n",
       "      <td>802.000000</td>\n",
       "      <td>18981.000000</td>\n",
       "      <td>314.000000</td>\n",
       "      <td>301.000000</td>\n",
       "      <td>7325.000000</td>\n",
       "    </tr>\n",
       "    <tr>\n",
       "      <th>max</th>\n",
       "      <td>2758.000000</td>\n",
       "      <td>57706.000000</td>\n",
       "      <td>1826.000000</td>\n",
       "      <td>1595.000000</td>\n",
       "      <td>23175.000000</td>\n",
       "    </tr>\n",
       "    <tr>\n",
       "      <th rowspan=\"8\" valign=\"top\">3</th>\n",
       "      <th>count</th>\n",
       "      <td>1110351.000000</td>\n",
       "      <td>1110351.000000</td>\n",
       "      <td>1110351.000000</td>\n",
       "      <td>1110351.000000</td>\n",
       "      <td>1110351.000000</td>\n",
       "    </tr>\n",
       "    <tr>\n",
       "      <th>mean</th>\n",
       "      <td>0.000000</td>\n",
       "      <td>0.000000</td>\n",
       "      <td>0.000000</td>\n",
       "      <td>0.000000</td>\n",
       "      <td>0.000000</td>\n",
       "    </tr>\n",
       "    <tr>\n",
       "      <th>std</th>\n",
       "      <td>0.000000</td>\n",
       "      <td>0.000000</td>\n",
       "      <td>0.000000</td>\n",
       "      <td>0.000000</td>\n",
       "      <td>0.000000</td>\n",
       "    </tr>\n",
       "    <tr>\n",
       "      <th>min</th>\n",
       "      <td>0.000000</td>\n",
       "      <td>0.000000</td>\n",
       "      <td>0.000000</td>\n",
       "      <td>0.000000</td>\n",
       "      <td>0.000000</td>\n",
       "    </tr>\n",
       "    <tr>\n",
       "      <th>25%</th>\n",
       "      <td>0.000000</td>\n",
       "      <td>0.000000</td>\n",
       "      <td>0.000000</td>\n",
       "      <td>0.000000</td>\n",
       "      <td>0.000000</td>\n",
       "    </tr>\n",
       "    <tr>\n",
       "      <th>50%</th>\n",
       "      <td>0.000000</td>\n",
       "      <td>0.000000</td>\n",
       "      <td>0.000000</td>\n",
       "      <td>0.000000</td>\n",
       "      <td>0.000000</td>\n",
       "    </tr>\n",
       "    <tr>\n",
       "      <th>75%</th>\n",
       "      <td>0.000000</td>\n",
       "      <td>0.000000</td>\n",
       "      <td>0.000000</td>\n",
       "      <td>0.000000</td>\n",
       "      <td>0.000000</td>\n",
       "    </tr>\n",
       "    <tr>\n",
       "      <th>max</th>\n",
       "      <td>0.000000</td>\n",
       "      <td>0.000000</td>\n",
       "      <td>0.000000</td>\n",
       "      <td>0.000000</td>\n",
       "      <td>0.000000</td>\n",
       "    </tr>\n",
       "  </tbody>\n",
       "</table>\n",
       "</div>"
      ],
      "text/plain": [
       "                       listing     listing_gmv            sale  \\\n",
       "clusters                                                         \n",
       "0        count    93915.000000    93915.000000    93915.000000   \n",
       "         mean         8.733887      273.256338        1.607475   \n",
       "         std         14.286154      374.521167        3.850320   \n",
       "         min          1.000000        3.000000        0.000000   \n",
       "         25%          1.000000       50.000000        0.000000   \n",
       "         50%          3.000000      138.000000        0.000000   \n",
       "         75%         10.000000      340.000000        1.000000   \n",
       "         max        225.000000     4000.000000       60.000000   \n",
       "1        count     3431.000000     3431.000000     3431.000000   \n",
       "         mean       104.140192     2945.037015       26.652579   \n",
       "         std         89.107138     2521.002412       31.667652   \n",
       "         min          1.000000       50.000000        0.000000   \n",
       "         25%         44.000000     1387.500000        4.000000   \n",
       "         50%         83.000000     2331.000000       17.000000   \n",
       "         75%        137.000000     3730.000000       38.000000   \n",
       "         max        769.000000    23093.000000      255.000000   \n",
       "2        count       77.000000       77.000000       77.000000   \n",
       "         mean       691.649351    15277.077922      267.857143   \n",
       "         std        578.994791    11955.298952      274.148045   \n",
       "         min         39.000000     1547.000000        0.000000   \n",
       "         25%        311.000000     7535.000000      119.000000   \n",
       "         50%        555.000000    11595.000000      209.000000   \n",
       "         75%        802.000000    18981.000000      314.000000   \n",
       "         max       2758.000000    57706.000000     1826.000000   \n",
       "3        count  1110351.000000  1110351.000000  1110351.000000   \n",
       "         mean         0.000000        0.000000        0.000000   \n",
       "         std          0.000000        0.000000        0.000000   \n",
       "         min          0.000000        0.000000        0.000000   \n",
       "         25%          0.000000        0.000000        0.000000   \n",
       "         50%          0.000000        0.000000        0.000000   \n",
       "         75%          0.000000        0.000000        0.000000   \n",
       "         max          0.000000        0.000000        0.000000   \n",
       "\n",
       "                        buyers             gmv  \n",
       "clusters                                        \n",
       "0        count    93915.000000    93915.000000  \n",
       "         mean         1.560145       41.293734  \n",
       "         std          3.691204       98.944109  \n",
       "         min          0.000000        0.000000  \n",
       "         25%          0.000000        0.000000  \n",
       "         50%          0.000000        0.000000  \n",
       "         75%          1.000000       35.000000  \n",
       "         max         58.000000     1541.000000  \n",
       "1        count     3431.000000     3431.000000  \n",
       "         mean        25.019528      658.105800  \n",
       "         std         29.403435      764.350098  \n",
       "         min          0.000000        0.000000  \n",
       "         25%          4.000000      110.000000  \n",
       "         50%         16.000000      439.000000  \n",
       "         75%         36.000000      924.000000  \n",
       "         max        248.000000     8446.000000  \n",
       "2        count       77.000000       77.000000  \n",
       "         mean       241.987013     5308.272727  \n",
       "         std        247.732426     4060.448286  \n",
       "         min          0.000000        0.000000  \n",
       "         25%        103.000000     2653.000000  \n",
       "         50%        187.000000     4443.000000  \n",
       "         75%        301.000000     7325.000000  \n",
       "         max       1595.000000    23175.000000  \n",
       "3        count  1110351.000000  1110351.000000  \n",
       "         mean         0.000000        0.000000  \n",
       "         std          0.000000        0.000000  \n",
       "         min          0.000000        0.000000  \n",
       "         25%          0.000000        0.000000  \n",
       "         50%          0.000000        0.000000  \n",
       "         75%          0.000000        0.000000  \n",
       "         max          0.000000        0.000000  "
      ]
     },
     "execution_count": 51,
     "metadata": {},
     "output_type": "execute_result"
    }
   ],
   "source": [
    "df_kmeans[['listing','listing_gmv','sale','buyers','gmv']].describe()"
   ]
  },
  {
   "cell_type": "markdown",
   "metadata": {},
   "source": [
    "### 3-2-2. DBSCAN clustering"
   ]
  },
  {
   "cell_type": "markdown",
   "metadata": {},
   "source": [
    "As seen in the figure and number of users in each clusters, clusters are not evenly distributed and one or two clusters contain most of the datasets.\n",
    "\n",
    "In the next subsection, I tried a different clustering algorighm of DBSCAN, which views clusters as areas of high density separated by areas of low density. It is known that the clusters found using DBSCAN can be any shape, whereas k-means assumes the clusters to be convex shapes. Having negative silhouette scores in may smaller clusters found using k-means may indicate that the ground truth clusters may not be convex shapes.\n",
    "\n",
    "DBSCAN is known to be good for data which contains clusters of similar density.\n",
    "\n",
    "There are two parameters to the algorithm, `min_samples` and `eps`, which define formally what we mean when we say dense. Higher `min_samples` or lower `eps` indicate higher density necessary to form a cluster."
   ]
  },
  {
   "cell_type": "markdown",
   "metadata": {},
   "source": [
    "# DBSCAN crashes when processed with all of the data!!!"
   ]
  },
  {
   "cell_type": "code",
   "execution_count": 47,
   "metadata": {
    "collapsed": false
   },
   "outputs": [
    {
     "name": "stdout",
     "output_type": "stream",
     "text": [
      "elapsed time 3.27 minutes\n"
     ]
    }
   ],
   "source": [
    "startT = time.time()\n",
    "from sklearn.cluster import DBSCAN\n",
    "\n",
    "row_selections = np.random.randint(len(input_data),size=40000)\n",
    "db = DBSCAN(eps=0.5, min_samples = 30).fit(input_data[row_selections,:])\n",
    "# db = DBSCAN(eps=0.5, min_samples = 30).fit(input_data)\n",
    "\n",
    "endT = time.time()\n",
    "print \"elapsed time %.2f minutes\" % ((endT-startT)/60.0)"
   ]
  },
  {
   "cell_type": "code",
   "execution_count": 50,
   "metadata": {
    "collapsed": false
   },
   "outputs": [
    {
     "name": "stdout",
     "output_type": "stream",
     "text": [
      "elapsed time 13.87 minutes\n"
     ]
    }
   ],
   "source": [
    "startT = time.time()\n",
    "from sklearn.cluster import DBSCAN\n",
    "\n",
    "row_selections = np.random.randint(len(input_data),size=60000)\n",
    "db = DBSCAN(eps=0.5, min_samples = 30).fit(input_data[row_selections,:])\n",
    "# db = DBSCAN(eps=0.5, min_samples = 30).fit(input_data)\n",
    "\n",
    "endT = time.time()\n",
    "print \"elapsed time %.2f minutes\" % ((endT-startT)/60.0)"
   ]
  },
  {
   "cell_type": "code",
   "execution_count": 51,
   "metadata": {
    "collapsed": true
   },
   "outputs": [],
   "source": [
    "labels = db.labels_\n",
    "n_clusters_ = len(set(labels)) - (1 if -1 in labels else 0)"
   ]
  },
  {
   "cell_type": "code",
   "execution_count": 52,
   "metadata": {
    "collapsed": false
   },
   "outputs": [
    {
     "data": {
      "text/plain": [
       "1"
      ]
     },
     "execution_count": 52,
     "metadata": {},
     "output_type": "execute_result"
    }
   ],
   "source": [
    "n_clusters_"
   ]
  },
  {
   "cell_type": "code",
   "execution_count": 53,
   "metadata": {
    "collapsed": false
   },
   "outputs": [
    {
     "data": {
      "text/plain": [
       "59998"
      ]
     },
     "execution_count": 53,
     "metadata": {},
     "output_type": "execute_result"
    }
   ],
   "source": [
    "len(db.labels_[db.labels_==0])"
   ]
  },
  {
   "cell_type": "code",
   "execution_count": 54,
   "metadata": {
    "collapsed": false
   },
   "outputs": [
    {
     "data": {
      "text/plain": [
       "2"
      ]
     },
     "execution_count": 54,
     "metadata": {},
     "output_type": "execute_result"
    }
   ],
   "source": [
    "len(db.labels_[db.labels_==-1])"
   ]
  },
  {
   "cell_type": "markdown",
   "metadata": {},
   "source": [
    "> DBSCAN does not work well with the entire dataset"
   ]
  },
  {
   "cell_type": "markdown",
   "metadata": {},
   "source": [
    "### 3-2-3. Hierarchical clustering"
   ]
  },
  {
   "cell_type": "code",
   "execution_count": 58,
   "metadata": {
    "collapsed": false
   },
   "outputs": [
    {
     "data": {
      "text/plain": [
       "(97423, 5)"
      ]
     },
     "execution_count": 58,
     "metadata": {},
     "output_type": "execute_result"
    }
   ],
   "source": [
    "input_data.shape"
   ]
  },
  {
   "cell_type": "code",
   "execution_count": 41,
   "metadata": {
    "collapsed": true
   },
   "outputs": [],
   "source": [
    "from sklearn.cluster import AgglomerativeClustering"
   ]
  },
  {
   "cell_type": "code",
   "execution_count": 42,
   "metadata": {
    "collapsed": false
   },
   "outputs": [
    {
     "name": "stdout",
     "output_type": "stream",
     "text": [
      "elapsed time 3503.71\n"
     ]
    }
   ],
   "source": [
    "startT = time.time()\n",
    "row_selections = np.random.randint(len(input_data),size=20000)\n",
    "model = AgglomerativeClustering(linkage = 'average',n_clusters = 3)\n",
    "model.fit(input_data[row_selections,:])\n",
    "endT = time.time()\n",
    "\n",
    "print \"elapsed time %.2f\" % (endT-startT)"
   ]
  },
  {
   "cell_type": "code",
   "execution_count": 43,
   "metadata": {
    "collapsed": false
   },
   "outputs": [
    {
     "data": {
      "text/plain": [
       "{0, 1, 2}"
      ]
     },
     "execution_count": 43,
     "metadata": {},
     "output_type": "execute_result"
    }
   ],
   "source": [
    "set(model.labels_)"
   ]
  },
  {
   "cell_type": "code",
   "execution_count": 44,
   "metadata": {
    "collapsed": false
   },
   "outputs": [
    {
     "name": "stdout",
     "output_type": "stream",
     "text": [
      "elapsed time 11407.37\n"
     ]
    }
   ],
   "source": [
    "startT = time.time()\n",
    "row_selections = np.random.randint(len(input_data),size=30000)\n",
    "model = AgglomerativeClustering(linkage = 'average',n_clusters = 3)\n",
    "model.fit(input_data[row_selections,:])\n",
    "endT = time.time()\n",
    "\n",
    "print \"elapsed time %.2f\" % (endT-startT)"
   ]
  },
  {
   "cell_type": "code",
   "execution_count": 45,
   "metadata": {
    "collapsed": false
   },
   "outputs": [
    {
     "data": {
      "text/plain": [
       "{0, 1, 2}"
      ]
     },
     "execution_count": 45,
     "metadata": {},
     "output_type": "execute_result"
    }
   ],
   "source": [
    "set(model.labels_)"
   ]
  },
  {
   "cell_type": "markdown",
   "metadata": {},
   "source": [
    "#### silhouette score for Agg clustering"
   ]
  },
  {
   "cell_type": "code",
   "execution_count": 47,
   "metadata": {
    "collapsed": false
   },
   "outputs": [
    {
     "name": "stdout",
     "output_type": "stream",
     "text": [
      "numer of clustering is 3 : silhouette score is 0.987138129943\n",
      "elapsed time 836.37\n"
     ]
    }
   ],
   "source": [
    "\n",
    "# number of clusters\n",
    "n = 3\n",
    "\n",
    "startT = time.time()\n",
    "\n",
    "#clusterer = KMeans(init = 'k-means++', n_clusters=n, n_init=10, max_iter = 500)\n",
    "\n",
    "#clusterer.fit(reduced5)\n",
    "#cluster_labels = clusterer.fit_predict(input_data)\n",
    "#cluster_labels = clusterer.labels_\n",
    "cluster_labels = model.labels_\n",
    "\n",
    "silhouette_avg = silhouette_score(input_data[row_selections,:],\n",
    "                              cluster_labels)\n",
    "sample_silhouette_values = silhouette_samples(input_data[row_selections,:], \n",
    "                                          cluster_labels)\n",
    "endT = time.time()\n",
    "print 'numer of clustering is',n,': silhouette score is',silhouette_avg\n",
    "print \"elapsed time %.2f\" % (endT-startT)"
   ]
  },
  {
   "cell_type": "code",
   "execution_count": 48,
   "metadata": {
    "collapsed": false,
    "scrolled": false
   },
   "outputs": [
    {
     "name": "stdout",
     "output_type": "stream",
     "text": [
      "29998\n",
      "1\n",
      "1\n"
     ]
    },
    {
     "data": {
      "image/png": "[encoded data removed]",
      "text/plain": [
       "<matplotlib.figure.Figure at 0x132aee090>"
      ]
     },
     "metadata": {},
     "output_type": "display_data"
    }
   ],
   "source": [
    "y_lower = 10\n",
    "nn_cluster = 3\n",
    "\n",
    "#fig, (ax1,ax2) = plt.subplots(1,2)\n",
    "fig, ax1 = plt.subplots(1,1)\n",
    "fig.set_size_inches(18,7)\n",
    "\n",
    "# for i in range(1,nn_cluster):\n",
    "for i in range(0,nn_cluster):\n",
    "    ith_cluster_silhouette_values = sample_silhouette_values[cluster_labels == i]\n",
    "    ith_cluster_silhouette_values.sort()\n",
    "    \n",
    "    size_cluster_i = ith_cluster_silhouette_values.shape[0]\n",
    "    y_upper = y_lower + size_cluster_i\n",
    "    color = cm.spectral(float(i)/nn_cluster)\n",
    "    ax1.fill_betweenx(np.arange(y_lower,y_upper), 0,\n",
    "                     ith_cluster_silhouette_values,\n",
    "                     facecolor = color, edgecolor = color, alpha = 0.7)\n",
    "    ax1.text(-0.05, y_lower + 0.5*size_cluster_i, str(i))\n",
    "    y_lower = y_upper + 10\n",
    "    ax1.set_yticks([])\n",
    "    print size_cluster_i"
   ]
  },
  {
   "cell_type": "markdown",
   "metadata": {},
   "source": [
    "> AgglomerativeClustering takes long time!!"
   ]
  },
  {
   "cell_type": "markdown",
   "metadata": {},
   "source": [
    "## 3-3. Data Labeling with group numbers"
   ]
  },
  {
   "cell_type": "markdown",
   "metadata": {},
   "source": [
    "### Labeling based on average listings per each group"
   ]
  },
  {
   "cell_type": "code",
   "execution_count": 58,
   "metadata": {
    "collapsed": false
   },
   "outputs": [
    {
     "data": {
      "text/plain": [
       "clusters\n",
       "0      8.733887\n",
       "1    104.140192\n",
       "2    691.649351\n",
       "3      0.000000\n",
       "Name: listing, dtype: float64"
      ]
     },
     "execution_count": 58,
     "metadata": {},
     "output_type": "execute_result"
    }
   ],
   "source": [
    "group_listing = df_clustered2['listing'].groupby(df_clustered2['clusters'])\n",
    "group_listing.mean()\n"
   ]
  },
  {
   "cell_type": "markdown",
   "metadata": {},
   "source": [
    "### As shown above, the average listings per each labeled group were computed. It is now possible to determine which group belongs to which predefined seller groups."
   ]
  },
  {
   "cell_type": "markdown",
   "metadata": {},
   "source": [
    "\n",
    "* Group 0: casual seller (avg 8.7 listings)\n",
    "* Group 1: business seller (avg 104.1 listings)\n",
    "* Group 2: top seller (avg 691.6 listings)\n",
    "* Group 3: new seller (none listed)"
   ]
  },
  {
   "cell_type": "markdown",
   "metadata": {},
   "source": [
    "## 3-4. Export to csv file"
   ]
  },
  {
   "cell_type": "code",
   "execution_count": 61,
   "metadata": {
    "collapsed": false
   },
   "outputs": [],
   "source": [
    "df_clustered2.to_csv('All_data_clustered.csv')\n",
    "df_clustered2[df_clustered2['clusters']==0].to_csv('data_casual_seller.csv')\n",
    "df_clustered2[df_clustered2['clusters']==1].to_csv('data_business_seller.csv')\n",
    "df_clustered2[df_clustered2['clusters']==2].to_csv('data_top_seller.csv')\n",
    "df_clustered2[df_clustered2['clusters']==3].to_csv('data_new_seller.csv')\n"
   ]
  },
  {
   "cell_type": "markdown",
   "metadata": {},
   "source": [
    "# Future recommendation"
   ]
  },
  {
   "cell_type": "markdown",
   "metadata": {
    "collapsed": true
   },
   "source": [
    "* Now the clustering the seller is done. \n",
    "* Based on the seller segregation done in the previous step, we may be able to predict which group a unknown seller belongs when features of the seller are known.\n"
   ]
  }
 ],
 "metadata": {
  "kernelspec": {
   "display_name": "Python 2",
   "language": "python",
   "name": "python2"
  },
  "language_info": {
   "codemirror_mode": {
    "name": "ipython",
    "version": 2
   },
   "file_extension": ".py",
   "mimetype": "text/x-python",
   "name": "python",
   "nbconvert_exporter": "python",
   "pygments_lexer": "ipython2",
   "version": "2.7.12"
  }
 },
 "nbformat": 4,
 "nbformat_minor": 0
}
